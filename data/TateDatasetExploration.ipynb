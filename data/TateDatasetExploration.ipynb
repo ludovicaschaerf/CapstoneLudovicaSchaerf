{
 "cells": [
  {
   "cell_type": "markdown",
   "metadata": {
    "scrolled": true
   },
   "source": [
    "## Exploration of the Tate Collection data\n",
    "This notebook contains an exploration of the data retrieved from https://github.com/tategallery/collection. This exploration is aimed at producing a target vector for the indended classification of the artworks in the collection according to their subject. \n",
    "\n",
    "As such, this notebook is comprised of three sections:\n",
    "- retrieval of the subject metadata\n",
    "- summary statistics of the data according to their subject\n",
    "- [TODO] the unpacking in a tensorflow compatible format of the data \n",
    "\n",
    "### Retrieving subject metadata\n",
    "The repository cloned from github contains metadata in two formats: a csv file with some general metadata on all the images (not contained) and one json file per image id.\n",
    "\n",
    "The subject metadata is contained only as a section of the json files. This section therefore retrieves all the subject sections of the json files and reorganizes them into a single json file for all subjects of all images.\n",
    "\n",
    "The json file produced is in the form of {class:{subclass:'ImageId'}} as it is convinient both as a target vector format and to unpack the images into the correct directories. \n",
    "\n",
    "NB that an ImageId appears following more than one path since each image contains, on average, more than one subject. "
   ]
  },
  {
   "cell_type": "code",
   "execution_count": 1,
   "metadata": {},
   "outputs": [],
   "source": [
    "import pandas as pd\n",
    "import numpy as np\n",
    "from pathlib import Path\n",
    "import json\n",
    "import os\n",
    "import glob"
   ]
  },
  {
   "cell_type": "code",
   "execution_count": 2,
   "metadata": {},
   "outputs": [
    {
     "name": "stderr",
     "output_type": "stream",
     "text": [
      "C:\\Users\\Ludovica\\Anaconda3\\envs\\tf\\lib\\site-packages\\IPython\\core\\interactiveshell.py:3063: DtypeWarning: Columns (9,13) have mixed types.Specify dtype option on import or set low_memory=False.\n",
      "  interactivity=interactivity, compiler=compiler, result=result)\n"
     ]
    },
    {
     "data": {
      "text/html": [
       "<div>\n",
       "<style scoped>\n",
       "    .dataframe tbody tr th:only-of-type {\n",
       "        vertical-align: middle;\n",
       "    }\n",
       "\n",
       "    .dataframe tbody tr th {\n",
       "        vertical-align: top;\n",
       "    }\n",
       "\n",
       "    .dataframe thead th {\n",
       "        text-align: right;\n",
       "    }\n",
       "</style>\n",
       "<table border=\"1\" class=\"dataframe\">\n",
       "  <thead>\n",
       "    <tr style=\"text-align: right;\">\n",
       "      <th></th>\n",
       "      <th>id</th>\n",
       "      <th>accession_number</th>\n",
       "      <th>artist</th>\n",
       "      <th>artistRole</th>\n",
       "      <th>artistId</th>\n",
       "      <th>title</th>\n",
       "      <th>dateText</th>\n",
       "      <th>medium</th>\n",
       "      <th>creditLine</th>\n",
       "      <th>year</th>\n",
       "      <th>acquisitionYear</th>\n",
       "      <th>dimensions</th>\n",
       "      <th>width</th>\n",
       "      <th>height</th>\n",
       "      <th>depth</th>\n",
       "      <th>units</th>\n",
       "      <th>inscription</th>\n",
       "      <th>thumbnailCopyright</th>\n",
       "      <th>thumbnailUrl</th>\n",
       "      <th>url</th>\n",
       "    </tr>\n",
       "  </thead>\n",
       "  <tbody>\n",
       "    <tr>\n",
       "      <th>0</th>\n",
       "      <td>1035</td>\n",
       "      <td>A00001</td>\n",
       "      <td>Blake, Robert</td>\n",
       "      <td>artist</td>\n",
       "      <td>38</td>\n",
       "      <td>A Figure Bowing before a Seated Old Man with h...</td>\n",
       "      <td>date not known</td>\n",
       "      <td>Watercolour, ink, chalk and graphite on paper....</td>\n",
       "      <td>Presented by Mrs John Richmond 1922</td>\n",
       "      <td>NaN</td>\n",
       "      <td>1922.0</td>\n",
       "      <td>support: 394 x 419 mm</td>\n",
       "      <td>394</td>\n",
       "      <td>419</td>\n",
       "      <td>NaN</td>\n",
       "      <td>mm</td>\n",
       "      <td>NaN</td>\n",
       "      <td>NaN</td>\n",
       "      <td>http://www.tate.org.uk/art/images/work/A/A00/A...</td>\n",
       "      <td>http://www.tate.org.uk/art/artworks/blake-a-fi...</td>\n",
       "    </tr>\n",
       "    <tr>\n",
       "      <th>1</th>\n",
       "      <td>1036</td>\n",
       "      <td>A00002</td>\n",
       "      <td>Blake, Robert</td>\n",
       "      <td>artist</td>\n",
       "      <td>38</td>\n",
       "      <td>Two Drawings of Frightened Figures, Probably f...</td>\n",
       "      <td>date not known</td>\n",
       "      <td>Graphite on paper</td>\n",
       "      <td>Presented by Mrs John Richmond 1922</td>\n",
       "      <td>NaN</td>\n",
       "      <td>1922.0</td>\n",
       "      <td>support: 311 x 213 mm</td>\n",
       "      <td>311</td>\n",
       "      <td>213</td>\n",
       "      <td>NaN</td>\n",
       "      <td>mm</td>\n",
       "      <td>NaN</td>\n",
       "      <td>NaN</td>\n",
       "      <td>http://www.tate.org.uk/art/images/work/A/A00/A...</td>\n",
       "      <td>http://www.tate.org.uk/art/artworks/blake-two-...</td>\n",
       "    </tr>\n",
       "    <tr>\n",
       "      <th>2</th>\n",
       "      <td>1037</td>\n",
       "      <td>A00003</td>\n",
       "      <td>Blake, Robert</td>\n",
       "      <td>artist</td>\n",
       "      <td>38</td>\n",
       "      <td>The Preaching of Warning. Verso: An Old Man En...</td>\n",
       "      <td>?c.1785</td>\n",
       "      <td>Graphite on paper. Verso: graphite on paper</td>\n",
       "      <td>Presented by Mrs John Richmond 1922</td>\n",
       "      <td>1785</td>\n",
       "      <td>1922.0</td>\n",
       "      <td>support: 343 x 467 mm</td>\n",
       "      <td>343</td>\n",
       "      <td>467</td>\n",
       "      <td>NaN</td>\n",
       "      <td>mm</td>\n",
       "      <td>NaN</td>\n",
       "      <td>NaN</td>\n",
       "      <td>http://www.tate.org.uk/art/images/work/A/A00/A...</td>\n",
       "      <td>http://www.tate.org.uk/art/artworks/blake-the-...</td>\n",
       "    </tr>\n",
       "    <tr>\n",
       "      <th>3</th>\n",
       "      <td>1038</td>\n",
       "      <td>A00004</td>\n",
       "      <td>Blake, Robert</td>\n",
       "      <td>artist</td>\n",
       "      <td>38</td>\n",
       "      <td>Six Drawings of Figures with Outstretched Arms</td>\n",
       "      <td>date not known</td>\n",
       "      <td>Graphite on paper</td>\n",
       "      <td>Presented by Mrs John Richmond 1922</td>\n",
       "      <td>NaN</td>\n",
       "      <td>1922.0</td>\n",
       "      <td>support: 318 x 394 mm</td>\n",
       "      <td>318</td>\n",
       "      <td>394</td>\n",
       "      <td>NaN</td>\n",
       "      <td>mm</td>\n",
       "      <td>NaN</td>\n",
       "      <td>NaN</td>\n",
       "      <td>http://www.tate.org.uk/art/images/work/A/A00/A...</td>\n",
       "      <td>http://www.tate.org.uk/art/artworks/blake-six-...</td>\n",
       "    </tr>\n",
       "    <tr>\n",
       "      <th>4</th>\n",
       "      <td>1039</td>\n",
       "      <td>A00005</td>\n",
       "      <td>Blake, William</td>\n",
       "      <td>artist</td>\n",
       "      <td>39</td>\n",
       "      <td>The Circle of the Lustful: Francesca da Rimini...</td>\n",
       "      <td>1826–7, reprinted 1892</td>\n",
       "      <td>Line engraving on paper</td>\n",
       "      <td>Purchased with the assistance of a special gra...</td>\n",
       "      <td>1826</td>\n",
       "      <td>1919.0</td>\n",
       "      <td>image: 243 x 335 mm</td>\n",
       "      <td>243</td>\n",
       "      <td>335</td>\n",
       "      <td>NaN</td>\n",
       "      <td>mm</td>\n",
       "      <td>NaN</td>\n",
       "      <td>NaN</td>\n",
       "      <td>http://www.tate.org.uk/art/images/work/A/A00/A...</td>\n",
       "      <td>http://www.tate.org.uk/art/artworks/blake-the-...</td>\n",
       "    </tr>\n",
       "  </tbody>\n",
       "</table>\n",
       "</div>"
      ],
      "text/plain": [
       "     id accession_number          artist artistRole  artistId  \\\n",
       "0  1035           A00001   Blake, Robert     artist        38   \n",
       "1  1036           A00002   Blake, Robert     artist        38   \n",
       "2  1037           A00003   Blake, Robert     artist        38   \n",
       "3  1038           A00004   Blake, Robert     artist        38   \n",
       "4  1039           A00005  Blake, William     artist        39   \n",
       "\n",
       "                                               title                dateText  \\\n",
       "0  A Figure Bowing before a Seated Old Man with h...          date not known   \n",
       "1  Two Drawings of Frightened Figures, Probably f...          date not known   \n",
       "2  The Preaching of Warning. Verso: An Old Man En...                 ?c.1785   \n",
       "3     Six Drawings of Figures with Outstretched Arms          date not known   \n",
       "4  The Circle of the Lustful: Francesca da Rimini...  1826–7, reprinted 1892   \n",
       "\n",
       "                                              medium  \\\n",
       "0  Watercolour, ink, chalk and graphite on paper....   \n",
       "1                                  Graphite on paper   \n",
       "2        Graphite on paper. Verso: graphite on paper   \n",
       "3                                  Graphite on paper   \n",
       "4                            Line engraving on paper   \n",
       "\n",
       "                                          creditLine  year  acquisitionYear  \\\n",
       "0                Presented by Mrs John Richmond 1922   NaN           1922.0   \n",
       "1                Presented by Mrs John Richmond 1922   NaN           1922.0   \n",
       "2                Presented by Mrs John Richmond 1922  1785           1922.0   \n",
       "3                Presented by Mrs John Richmond 1922   NaN           1922.0   \n",
       "4  Purchased with the assistance of a special gra...  1826           1919.0   \n",
       "\n",
       "              dimensions width height  depth units inscription  \\\n",
       "0  support: 394 x 419 mm   394    419    NaN    mm         NaN   \n",
       "1  support: 311 x 213 mm   311    213    NaN    mm         NaN   \n",
       "2  support: 343 x 467 mm   343    467    NaN    mm         NaN   \n",
       "3  support: 318 x 394 mm   318    394    NaN    mm         NaN   \n",
       "4    image: 243 x 335 mm   243    335    NaN    mm         NaN   \n",
       "\n",
       "  thumbnailCopyright                                       thumbnailUrl  \\\n",
       "0                NaN  http://www.tate.org.uk/art/images/work/A/A00/A...   \n",
       "1                NaN  http://www.tate.org.uk/art/images/work/A/A00/A...   \n",
       "2                NaN  http://www.tate.org.uk/art/images/work/A/A00/A...   \n",
       "3                NaN  http://www.tate.org.uk/art/images/work/A/A00/A...   \n",
       "4                NaN  http://www.tate.org.uk/art/images/work/A/A00/A...   \n",
       "\n",
       "                                                 url  \n",
       "0  http://www.tate.org.uk/art/artworks/blake-a-fi...  \n",
       "1  http://www.tate.org.uk/art/artworks/blake-two-...  \n",
       "2  http://www.tate.org.uk/art/artworks/blake-the-...  \n",
       "3  http://www.tate.org.uk/art/artworks/blake-six-...  \n",
       "4  http://www.tate.org.uk/art/artworks/blake-the-...  "
      ]
     },
     "execution_count": 2,
     "metadata": {},
     "output_type": "execute_result"
    }
   ],
   "source": [
    "data_info = pd.read_csv('../../Capstone/artwork_data.csv', verbose=0)\n",
    "data_info.head()"
   ]
  },
  {
   "cell_type": "code",
   "execution_count": 3,
   "metadata": {},
   "outputs": [
    {
     "data": {
      "text/plain": [
       "69201"
      ]
     },
     "execution_count": 3,
     "metadata": {},
     "output_type": "execute_result"
    }
   ],
   "source": [
    "keys = data_info.accession_number.unique()\n",
    "len(keys)"
   ]
  },
  {
   "cell_type": "code",
   "execution_count": 4,
   "metadata": {},
   "outputs": [
    {
     "data": {
      "text/plain": [
       "31557"
      ]
     },
     "execution_count": 4,
     "metadata": {},
     "output_type": "execute_result"
    }
   ],
   "source": [
    "#removing all the images beloning to section D as those are poor quality drawings\n",
    "keys = np.array([key for key in keys if key[0] != 'D'])\n",
    "len(keys)"
   ]
  },
  {
   "cell_type": "code",
   "execution_count": 17,
   "metadata": {},
   "outputs": [
    {
     "data": {
      "text/plain": [
       "'Civil War and Commonwealth'"
      ]
     },
     "execution_count": 17,
     "metadata": {},
     "output_type": "execute_result"
    }
   ],
   "source": [
    "with open(r'D:\\collection\\artworks\\T\\005\\t00500-1373.json') as json_file:\n",
    "    data = json.load(json_file)\n",
    "    \n",
    "data['movements'][0]['name']"
   ]
  },
  {
   "cell_type": "code",
   "execution_count": 11,
   "metadata": {},
   "outputs": [
    {
     "name": "stdout",
     "output_type": "stream",
     "text": [
      "Children: children\n",
      "Children: id\n",
      "Children: name\n"
     ]
    },
    {
     "data": {
      "text/plain": [
       "{'acno': 'T00500',\n",
       " 'acquisitionYear': 1962,\n",
       " 'all_artists': 'Edward Bower',\n",
       " 'catalogueGroup': {},\n",
       " 'classification': 'painting',\n",
       " 'contributorCount': 1,\n",
       " 'contributors': [{'birthYear': 1629,\n",
       "   'date': 'active 1629–c.1667',\n",
       "   'displayOrder': 1,\n",
       "   'fc': 'Edward Bower',\n",
       "   'gender': 'Male',\n",
       "   'id': 45,\n",
       "   'mda': 'Bower, Edward',\n",
       "   'role': 'artist',\n",
       "   'startLetter': 'B'}],\n",
       " 'creditLine': 'Purchased 1962',\n",
       " 'dateRange': {'endYear': 1646, 'startYear': 1646, 'text': '1646'},\n",
       " 'dateText': '1646',\n",
       " 'depth': '',\n",
       " 'dimensions': 'support: 1244 x 981 mm\\r\\nframe: 1430 x 1190 x 100 mm',\n",
       " 'foreignTitle': None,\n",
       " 'groupTitle': None,\n",
       " 'height': '981',\n",
       " 'id': 1373,\n",
       " 'inscription': 'date inscribed',\n",
       " 'medium': 'Oil paint on canvas',\n",
       " 'movementCount': 1,\n",
       " 'movements': [{'era': {'id': 289, 'name': '16th and 17th century'},\n",
       "   'id': 399,\n",
       "   'name': 'Civil War and Commonwealth'}],\n",
       " 'subjectCount': 9,\n",
       " 'subjects': {'children': [{'children': [{'children': [{'id': 12714,\n",
       "        'name': 'Drake, John, Sir'}],\n",
       "      'id': 102,\n",
       "      'name': 'named individuals'},\n",
       "     {'children': [{'id': 20118, 'name': 'individuals: male'}],\n",
       "      'id': 20114,\n",
       "      'name': 'portraits'},\n",
       "     {'children': [{'id': 195, 'name': 'man'}], 'id': 95, 'name': 'adults'},\n",
       "     {'children': [{'id': 270, 'name': 'standing'}],\n",
       "      'id': 92,\n",
       "      'name': 'actions: postures and motions'}],\n",
       "    'id': 91,\n",
       "    'name': 'people'},\n",
       "   {'children': [{'children': [{'id': 854, 'name': 'armour'},\n",
       "       {'id': 868, 'name': 'helmet'}],\n",
       "      'id': 88,\n",
       "      'name': 'clothing and personal effects'},\n",
       "     {'children': [{'id': 841, 'name': 'curtain'}],\n",
       "      'id': 82,\n",
       "      'name': 'furnishings'},\n",
       "     {'children': [{'id': 619, 'name': 'sword'}],\n",
       "      'id': 90,\n",
       "      'name': 'weapons'}],\n",
       "    'id': 78,\n",
       "    'name': 'objects'},\n",
       "   {'children': [{'children': [{'id': 15795, 'name': 'war - armour'}],\n",
       "      'id': 8024,\n",
       "      'name': 'society'}],\n",
       "    'id': 162,\n",
       "    'name': 'symbols & personifications'}],\n",
       "  'id': 1,\n",
       "  'name': 'subject'},\n",
       " 'thumbnailCopyright': None,\n",
       " 'thumbnailUrl': 'http://www.tate.org.uk/art/images/work/T/T00/T00500_8.jpg',\n",
       " 'title': 'Sir John Drake',\n",
       " 'units': 'mm',\n",
       " 'url': 'http://www.tate.org.uk/art/artworks/bower-sir-john-drake-t00500',\n",
       " 'width': '1244'}"
      ]
     },
     "execution_count": 11,
     "metadata": {},
     "output_type": "execute_result"
    }
   ],
   "source": [
    "#exploring the format of the json file for image A00001\n",
    "for p in data['subjects']:\n",
    "    print('Children: ' + p)#['children'])\n",
    "data#['subjects']['children']"
   ]
  },
  {
   "cell_type": "code",
   "execution_count": 12,
   "metadata": {},
   "outputs": [
    {
     "data": {
      "text/plain": [
       "'D:collection\\\\artworks\\\\a\\\\003\\\\*.json'"
      ]
     },
     "execution_count": 12,
     "metadata": {},
     "output_type": "execute_result"
    }
   ],
   "source": [
    "#replicating the path for each json given the start of the image id\n",
    "path = {}\n",
    "for key in keys:\n",
    "    path[key] = os.path.join( \"D:\", \"collection\", \"artworks\", key[0].lower(), key[1:4], '*.json')\n",
    "\n",
    "path[keys[332]]  "
   ]
  },
  {
   "cell_type": "code",
   "execution_count": 13,
   "metadata": {},
   "outputs": [
    {
     "data": {
      "text/plain": [
       "'D:collection\\\\artworks\\\\p\\\\065\\\\p06500-12527.json'"
      ]
     },
     "execution_count": 13,
     "metadata": {},
     "output_type": "execute_result"
    }
   ],
   "source": [
    "#exploring how to retrieve all the files in the found direcotries\n",
    "files = {}\n",
    "for key in keys:\n",
    "    files[key] = glob.glob(path[key])\n",
    "    \n",
    "files[keys[11111]][0]"
   ]
  },
  {
   "cell_type": "code",
   "execution_count": 11,
   "metadata": {},
   "outputs": [
    {
     "data": {
      "text/plain": [
       "[{'children': [{'children': [{'id': 10231,\n",
       "      'name': \"Rimbaud, Arthur, 'Les Illuminations'\"}],\n",
       "    'id': 58,\n",
       "    'name': 'literature (not Shakespeare)'}],\n",
       "  'id': 55,\n",
       "  'name': 'literature and fiction'},\n",
       " {'children': [{'children': [{'id': 1050, 'name': 'arm/arms raised'},\n",
       "     {'id': 270, 'name': 'standing'}],\n",
       "    'id': 92,\n",
       "    'name': 'actions: postures and motions'},\n",
       "   {'children': [{'id': 167, 'name': 'woman'}], 'id': 95, 'name': 'adults'}],\n",
       "  'id': 91,\n",
       "  'name': 'people'},\n",
       " {'children': [{'children': [{'id': 1834, 'name': 'dawn'},\n",
       "     {'id': 2261, 'name': 'sunrise'}],\n",
       "    'id': 75,\n",
       "    'name': 'times of the day'},\n",
       "   {'children': [{'id': 506, 'name': 'field'}], 'id': 71, 'name': 'landscape'},\n",
       "   {'children': [{'id': 975, 'name': 'sun'}], 'id': 69, 'name': 'astronomy'}],\n",
       "  'id': 60,\n",
       "  'name': 'nature'}]"
      ]
     },
     "execution_count": 11,
     "metadata": {},
     "output_type": "execute_result"
    }
   ],
   "source": [
    "#exploring how to take out only the part concerning the subject\n",
    "with open(files[keys[11111]][0]) as json_file:\n",
    "    data = json.load(json_file)\n",
    "    subjects = data['subjects']['children']\n",
    "    \n",
    "subjects"
   ]
  },
  {
   "cell_type": "code",
   "execution_count": 20,
   "metadata": {},
   "outputs": [],
   "source": [
    "with open(files[keys[11111]][0]) as json_file:\n",
    "    data = json.load(json_file)\n",
    "    if 'movements' in data.keys():\n",
    "        movement = data['movements'][0]['name']\n",
    "        movement"
   ]
  },
  {
   "cell_type": "code",
   "execution_count": 15,
   "metadata": {},
   "outputs": [
    {
     "data": {
      "text/plain": [
       "('literature and fiction',\n",
       " 'literature (not Shakespeare)',\n",
       " \"Rimbaud, Arthur, 'Les Illuminations'\")"
      ]
     },
     "execution_count": 15,
     "metadata": {},
     "output_type": "execute_result"
    }
   ],
   "source": [
    "#analysing the structure of the found section\n",
    "subjects[1]['children'][0]#['children']\n",
    "subjects[0]['name'],subjects[0]['children'][0]['name'],subjects[0]['children'][0]['children'][0]['name']"
   ]
  },
  {
   "cell_type": "code",
   "execution_count": 16,
   "metadata": {},
   "outputs": [
    {
     "data": {
      "text/plain": [
       "'P06500'"
      ]
     },
     "execution_count": 16,
     "metadata": {},
     "output_type": "execute_result"
    }
   ],
   "source": [
    "#reobtaining imageid\n",
    "(files[keys[11111]][0]).split('\\\\')[-1][:6].upper()"
   ]
  },
  {
   "cell_type": "code",
   "execution_count": 17,
   "metadata": {},
   "outputs": [
    {
     "data": {
      "text/plain": [
       "{'literature and fiction': {'literature (not Shakespeare)': {\"Rimbaud, Arthur, 'Les Illuminations'\": 'P06500'}},\n",
       " 'people': {'actions: postures and motions': {'arm/arms raised': 'P06500'},\n",
       "  'adults': {'woman': 'P06500'}},\n",
       " 'nature': {'times of the day': {'dawn': 'P06500'},\n",
       "  'landscape': {'field': 'P06500'},\n",
       "  'astronomy': {'sun': 'P06500'}}}"
      ]
     },
     "execution_count": 17,
     "metadata": {},
     "output_type": "execute_result"
    }
   ],
   "source": [
    "#trying to contruct the tree in the intended shape for one instance\n",
    "tree = {}\n",
    "\n",
    "for i in range(len(subjects)):\n",
    "    tree[subjects[i]['name']] = {}\n",
    "    for j in range(len(subjects[i]['children'])):\n",
    "        tree[subjects[i]['name']][subjects[i]['children'][j]['name']] = {}\n",
    "        for z in range(len([subjects[i]['children'][j]['children']])):\n",
    "            tree[subjects[i]['name']]\\\n",
    "                [subjects[i]['children'][j]['name']]\\\n",
    "                [subjects[i]['children'][j]['children'][z]['name']] = (files[keys[11111]][0]).split('\\\\')[-1][:6].upper()\n",
    "       \n",
    "tree"
   ]
  },
  {
   "cell_type": "markdown",
   "metadata": {},
   "source": [
    "#### Actual tree construction\n",
    "Now that the approriate investigation has been done I can start producing the complete tree\n",
    "\n",
    "> #### Do not run the following part"
   ]
  },
  {
   "cell_type": "code",
   "execution_count": 31,
   "metadata": {},
   "outputs": [
    {
     "name": "stdout",
     "output_type": "stream",
     "text": [
      "number of directories 345\n"
     ]
    }
   ],
   "source": [
    "path1 = {}\n",
    "files = {}\n",
    "subjects = {}\n",
    "i = 0\n",
    "j = 0\n",
    "z = 0\n",
    "k = 0\n",
    "keys4paths= list(set([key[:4] for key in keys]))\n",
    "\n",
    "#print('number of directories', len(keys4paths))\n",
    "\n",
    "for key in keys4paths:\n",
    "    path1[key] = os.path.join( \"D:\", \"collection\", \"artworks\", key[0].lower(), key[1:4], '*.json')\n",
    "    files[key] = glob.glob(path1[key])\n",
    "    #print('number of files in directory:', len(files[key]))\n",
    "    for i in range(len(files[key])):\n",
    "        z = z + 1\n",
    "        with open(files[key][i]) as json_file:\n",
    "            name_image = (files[key][i]).split('\\\\')[-1][:6].upper()\n",
    "            data = json.load(json_file)\n",
    "            k = k + 1\n",
    "            #print(data)\n",
    "            try:\n",
    "                subjects[name_image] = data['subjects']['children']\n",
    "                i = i + 1\n",
    "            except:\n",
    "                j = j + 1\n",
    "                #print('does not have subject info for', name_image)\n",
    "                #print(data)\n",
    "                \n",
    "                \n",
    "                  \n",
    "#print('number of files considered', z, k, '\\nnumber of subjects found:', i, '\\nnumber of subjects not found:', j)#, subjects[name_image])"
   ]
  },
  {
   "cell_type": "code",
   "execution_count": 22,
   "metadata": {},
   "outputs": [
    {
     "name": "stdout",
     "output_type": "stream",
     "text": [
      "number of files considered 30381 30381 \n",
      "number of subjects found: 98 \n",
      "number of subjects not found: 24410\n"
     ]
    }
   ],
   "source": [
    "path1 = {}\n",
    "files = {}\n",
    "movements = {}\n",
    "i = 0\n",
    "j = 0\n",
    "z = 0\n",
    "k = 0\n",
    "keys4paths= list(set([key[:4] for key in keys]))\n",
    "\n",
    "#print('number of directories', len(keys4paths))\n",
    "\n",
    "for key in keys4paths:\n",
    "    path1[key] = os.path.join( \"D:\", \"collection\", \"artworks\", key[0].lower(), key[1:4], '*.json')\n",
    "    files[key] = glob.glob(path1[key])\n",
    "    #print('number of files in directory:', len(files[key]))\n",
    "    for i in range(len(files[key])):\n",
    "        z = z + 1\n",
    "        with open(files[key][i]) as json_file:\n",
    "            name_image = (files[key][i]).split('\\\\')[-1][:6].upper()\n",
    "            data = json.load(json_file)\n",
    "            k = k + 1\n",
    "            #print(data)\n",
    "            try:\n",
    "                movements[name_image] = data['movements'][0]['name']\n",
    "                i = i + 1\n",
    "            except:\n",
    "                j = j + 1\n",
    "                #print('does not have subject info for', name_image)\n",
    "                #print(data)\n",
    "                \n",
    "                \n",
    "                  \n",
    "print('number of files considered', z, k, '\\nnumber of subjects found:', i, '\\nnumber of subjects not found:', j)#, subjects[name_image])"
   ]
  },
  {
   "cell_type": "code",
   "execution_count": 24,
   "metadata": {},
   "outputs": [
    {
     "data": {
      "text/plain": [
       "5971"
      ]
     },
     "execution_count": 24,
     "metadata": {},
     "output_type": "execute_result"
    }
   ],
   "source": [
    "len(list(movements.values()))"
   ]
  },
  {
   "cell_type": "code",
   "execution_count": 25,
   "metadata": {},
   "outputs": [],
   "source": [
    "with open('./results/TateMovementsDict.json', 'w') as outfile:\n",
    "    json.dump(movements, outfile)"
   ]
  },
  {
   "cell_type": "code",
   "execution_count": 43,
   "metadata": {},
   "outputs": [
    {
     "data": {
      "text/plain": [
       "dict_keys(['people', 'objects', 'nature', 'society', 'work and occupations', 'architecture', 'leisure and pastimes', 'emotions, concepts and ideas', 'symbols & personifications', 'interiors', 'abstraction', 'religion and belief', 'places', 'history', 'literature and fiction', 'group/movement'])"
      ]
     },
     "execution_count": 43,
     "metadata": {},
     "output_type": "execute_result"
    }
   ],
   "source": [
    "tree1 = {}\n",
    "\n",
    "for image in subjects:\n",
    "    for i in range(len(subjects[image])):\n",
    "        if subjects[image][i]['name'] not in tree1.keys():\n",
    "            tree1[subjects[image][i]['name']] = {}\n",
    "    for j in range(len(subjects[image][i]['children'])):\n",
    "        if subjects[image][i]['children'][j]['name']\\\n",
    "        not in tree1[subjects[image][i]['name']].keys():\n",
    "            tree1[subjects[image][i]['name']]\\\n",
    "                 [subjects[image][i]['children'][j]['name']] = {}\n",
    "        for z in range(len([subjects[image][i]['children'][j]['children']])):\n",
    "            if subjects[image][i]['children'][j]['children'][z]['name']\\\n",
    "            not in tree1[subjects[image][i]['name']]\\\n",
    "                        [subjects[image][i]['children'][j]['name']].keys():\n",
    "                tree1[subjects[image][i]['name']]\\\n",
    "                     [subjects[image][i]['children'][j]['name']]\\\n",
    "                     [subjects[image][i]['children'][j]['children'][z]['name']] = [image]\n",
    "            else:\n",
    "                tree1[subjects[image][i]['name']]\\\n",
    "                     [subjects[image][i]['children'][j]['name']]\\\n",
    "                     [subjects[image][i]['children'][j]['children'][z]['name']].append(image)\n",
    "       \n",
    "tree1.keys()"
   ]
  },
  {
   "cell_type": "markdown",
   "metadata": {},
   "source": [
    "Dumping the file into a json file so it can be reused in the future without rerunning this first part"
   ]
  },
  {
   "cell_type": "code",
   "execution_count": 48,
   "metadata": {},
   "outputs": [],
   "source": [
    "with open('./results/TateDict.json', 'w') as outfile:\n",
    "    json.dump(tree1, outfile)"
   ]
  },
  {
   "cell_type": "markdown",
   "metadata": {},
   "source": [
    "### Summary statistics of the data\n",
    "\n",
    "Now that I built the tree, let's look at some basic statistics on how the images are distributed among classes and how are the subclasses organized"
   ]
  },
  {
   "cell_type": "code",
   "execution_count": 6,
   "metadata": {},
   "outputs": [],
   "source": [
    "with open('./results/TateDict.json', 'r') as infile:\n",
    "    tree1 = json.load(infile)"
   ]
  },
  {
   "cell_type": "code",
   "execution_count": 7,
   "metadata": {},
   "outputs": [
    {
     "data": {
      "text/plain": [
       "dict_keys(['people', 'objects', 'places', 'architecture', 'abstraction', 'society', 'nature', 'emotions, concepts and ideas', 'interiors', 'work and occupations', 'symbols & personifications', 'religion and belief', 'leisure and pastimes', 'history', 'literature and fiction', 'group/movement'])"
      ]
     },
     "execution_count": 7,
     "metadata": {},
     "output_type": "execute_result"
    }
   ],
   "source": [
    "# Let's start by looking at an example of path\n",
    "tree1.keys()"
   ]
  },
  {
   "cell_type": "code",
   "execution_count": 8,
   "metadata": {},
   "outputs": [
    {
     "data": {
      "text/plain": [
       "dict_keys(['named individuals', 'portraits', 'actions: postures and motions', 'adults', 'groups', 'body', 'children', 'nudes', 'actions: processes and functions', 'actions: expressive', 'ethnicity', 'diseases and conditions', 'named groups', 'named families'])"
      ]
     },
     "execution_count": 8,
     "metadata": {},
     "output_type": "execute_result"
    }
   ],
   "source": [
    "tree1['people'].keys()"
   ]
  },
  {
   "cell_type": "code",
   "execution_count": 9,
   "metadata": {},
   "outputs": [
    {
     "data": {
      "text/plain": [
       "dict_keys(['individuals: female', 'individuals: male', 'self-portraits', 'groups'])"
      ]
     },
     "execution_count": 9,
     "metadata": {},
     "output_type": "execute_result"
    }
   ],
   "source": [
    "tree1['people']['portraits'].keys()"
   ]
  },
  {
   "cell_type": "code",
   "execution_count": 10,
   "metadata": {},
   "outputs": [
    {
     "data": {
      "text/plain": [
       "['N05909', 'N05925', 'N05929', 'N05936']"
      ]
     },
     "execution_count": 10,
     "metadata": {},
     "output_type": "execute_result"
    }
   ],
   "source": [
    "tree1['people']['portraits']['individuals: male'][:4]"
   ]
  },
  {
   "cell_type": "code",
   "execution_count": 11,
   "metadata": {},
   "outputs": [],
   "source": [
    "#some helper functions\n",
    "def count_subclasses(d):\n",
    "    return sum([count(v) if isinstance(v, dict) else 1 for v in d.keys()])\n",
    "def count_entries(d):\n",
    "    return len(d)"
   ]
  },
  {
   "cell_type": "code",
   "execution_count": 12,
   "metadata": {},
   "outputs": [
    {
     "data": {
      "text/plain": [
       "16"
      ]
     },
     "execution_count": 12,
     "metadata": {},
     "output_type": "execute_result"
    }
   ],
   "source": [
    "count_subclasses(tree1)"
   ]
  },
  {
   "cell_type": "code",
   "execution_count": 13,
   "metadata": {},
   "outputs": [
    {
     "name": "stdout",
     "output_type": "stream",
     "text": [
      "people 14\n",
      "objects 21\n",
      "places 12\n",
      "architecture 14\n",
      "abstraction 2\n",
      "society 16\n",
      "nature 18\n",
      "emotions, concepts and ideas 3\n",
      "interiors 5\n",
      "work and occupations 14\n",
      "symbols & personifications 12\n",
      "religion and belief 11\n",
      "leisure and pastimes 5\n",
      "history 7\n",
      "literature and fiction 6\n",
      "group/movement 1\n"
     ]
    }
   ],
   "source": [
    "for subclass in tree1.keys():\n",
    "    print(subclass, count_subclasses(tree1[subclass]))"
   ]
  },
  {
   "cell_type": "code",
   "execution_count": 14,
   "metadata": {},
   "outputs": [
    {
     "name": "stdout",
     "output_type": "stream",
     "text": [
      "people named individuals 1641\n",
      "people portraits 4\n",
      "people actions: postures and motions 39\n",
      "people adults 5\n",
      "people groups 5\n",
      "people body 53\n",
      "people children 4\n",
      "people nudes 3\n",
      "people actions: processes and functions 19\n",
      "people actions: expressive 37\n",
      "people ethnicity 10\n",
      "people diseases and conditions 58\n",
      "people named groups 26\n",
      "people named families 44\n",
      "objects clothing and personal effects 142\n",
      "objects fine art and design, named works 437\n",
      "objects furnishings 62\n",
      "objects religious and ceremonial 97\n",
      "objects reading, writing, printed matter 202\n",
      "objects vessels and containers 25\n",
      "objects food and drink 92\n",
      "objects kitchen 41\n",
      "objects fine arts and music 108\n",
      "objects weapons 32\n",
      "objects electrical appliances 28\n",
      "objects agriculture, gardening & fishing 51\n",
      "objects sports and games 40\n",
      "objects toys and models 43\n",
      "objects domestic 34\n",
      "objects scientific and measuring 46\n",
      "objects heating and lighting 30\n",
      "objects miscellaneous 64\n",
      "objects tools and machinery 73\n",
      "objects medical 21\n",
      "objects materials 1\n",
      "places UK counties 128\n",
      "places UK countries and regions 11\n",
      "places UK cities, towns and villages 972\n",
      "places countries and continents 185\n",
      "places cities, towns, villages (non-UK) 909\n",
      "places natural features (non-UK) 164\n",
      "places UK London 361\n",
      "places mythical, religious, fictional 35\n",
      "places UK natural features 377\n",
      "places UK man-made landmarks 106\n",
      "places man-made landmarks (non-UK) 36\n",
      "places historical: imagined views 42\n",
      "architecture religious 13\n",
      "architecture townscapes, man-made features 58\n",
      "architecture bridges and viaducts 3\n",
      "architecture industrial 35\n",
      "architecture residential 14\n",
      "architecture public and municipal 44\n",
      "architecture features 62\n",
      "architecture garden structures 17\n",
      "architecture monuments 11\n",
      "architecture periods and styles 24\n",
      "architecture ruins 12\n",
      "architecture places of entertainment 19\n",
      "architecture agricultural 9\n",
      "architecture military 11\n",
      "abstraction non-representational 6\n",
      "abstraction from recognisable sources 4\n",
      "society transport: water 43\n",
      "society transport: land 39\n",
      "society social comment 39\n",
      "society birth to death 18\n",
      "society sex and relationships 23\n",
      "society lifestyle and culture 28\n",
      "society dress: ceremonial/royal 15\n",
      "society nationality 57\n",
      "society family 19\n",
      "society government and politics 27\n",
      "society health and welfare 15\n",
      "society crime and punishment 24\n",
      "society dress: nations/regions 26\n",
      "society transport: air 11\n",
      "society dress: fantasy/fancy 17\n",
      "society education, science and learning 53\n",
      "nature water: inland 17\n",
      "nature natural phenomena 42\n",
      "nature plants and flowers 111\n",
      "nature animals: features 35\n",
      "nature animals: mammals 89\n",
      "nature landscape 25\n",
      "nature times of the day 9\n",
      "nature trees 46\n",
      "nature animals: birds 68\n",
      "nature animals: actions 22\n",
      "nature animals: fantastic 21\n",
      "nature seascapes and coasts 15\n",
      "nature weather 15\n",
      "nature seasons 4\n",
      "nature animals: fish and aquatic life 29\n",
      "nature animals: insects & lower animals 24\n",
      "nature astronomy 27\n",
      "nature animals: reptiles 6\n",
      "emotions, concepts and ideas emotions and human qualities 75\n",
      "emotions, concepts and ideas universal concepts 49\n",
      "emotions, concepts and ideas formal qualities 43\n",
      "interiors workspaces 26\n",
      "interiors domestic 19\n",
      "interiors public and municipal 28\n",
      "interiors places of entertainment 15\n",
      "interiors religious 10\n",
      "work and occupations equestrian and sporting 15\n",
      "work and occupations arts and entertainment 36\n",
      "work and occupations agriculture and fishing 33\n",
      "work and occupations royalty and social rank 15\n",
      "work and occupations domestic 17\n",
      "work and occupations public service 29\n",
      "work and occupations literary 6\n",
      "work and occupations trading and commercial 38\n",
      "work and occupations industrial and crafts 35\n",
      "work and occupations military 9\n",
      "work and occupations religious 19\n",
      "work and occupations educational and scientific 14\n",
      "work and occupations crime and punishment 14\n",
      "work and occupations medical 9\n",
      "symbols & personifications birth to death 50\n",
      "symbols & personifications abstract concepts 73\n",
      "symbols & personifications inscriptions 66\n",
      "symbols & personifications countries 18\n",
      "symbols & personifications religious 59\n",
      "symbols & personifications politics 14\n",
      "symbols & personifications society 41\n",
      "symbols & personifications emotional states and conditions 59\n",
      "symbols & personifications nature 19\n",
      "symbols & personifications people 8\n",
      "symbols & personifications mythological 10\n",
      "symbols & personifications gender 21\n",
      "religion and belief classical myths: gods and heroes 111\n",
      "religion and belief classical myths: events, themes 12\n",
      "religion and belief world religions 13\n",
      "religion and belief universal religious imagery 28\n",
      "religion and belief Judaeo-Christian imagery 45\n",
      "religion and belief Bible: New Testament 69\n",
      "religion and belief magic and occultism 22\n",
      "religion and belief mysticism 10\n",
      "religion and belief Bible: Old Testament 108\n",
      "religion and belief Saints 43\n",
      "religion and belief classical myths: creatures 16\n",
      "leisure and pastimes sport 45\n",
      "leisure and pastimes music and entertainment 22\n",
      "leisure and pastimes recreational activities 42\n",
      "leisure and pastimes art and craft 10\n",
      "leisure and pastimes eating and drinking 8\n",
      "history politics and society 178\n",
      "history military: World War I 11\n",
      "history military: World War II 31\n",
      "history arts 21\n",
      "history military 58\n",
      "history religious 9\n",
      "history classical 16\n",
      "literature and fiction characters 94\n",
      "literature and fiction classical 24\n",
      "literature and fiction literature (not Shakespeare) 390\n",
      "literature and fiction film, music and ballet 63\n",
      "literature and fiction tales, legends and traditional 38\n",
      "literature and fiction Shakespeare 23\n",
      "group/movement 21st century 1\n"
     ]
    }
   ],
   "source": [
    "for subclass in tree1.keys():\n",
    "    for subsubclass in tree1[subclass].keys():\n",
    "        print(subclass, subsubclass, count_subclasses(tree1[subclass][subsubclass]))"
   ]
  },
  {
   "cell_type": "code",
   "execution_count": 15,
   "metadata": {},
   "outputs": [
    {
     "data": {
      "text/plain": [
       "132"
      ]
     },
     "execution_count": 15,
     "metadata": {},
     "output_type": "execute_result"
    }
   ],
   "source": [
    "count_entries(tree1['people']['actions: postures and motions']['lying down'])"
   ]
  },
  {
   "cell_type": "code",
   "execution_count": null,
   "metadata": {},
   "outputs": [],
   "source": [
    "distr_data = []\n",
    "for subclass in tree1.keys():\n",
    "    for subsubclass in tree1[subclass].keys():\n",
    "        for subsubsubclass in tree1[subclass][subsubclass].keys():\n",
    "            distr_data.append(count_entries(tree1[subclass][subsubclass][subsubsubclass]))\n",
    "            info = (subclass, ' - ', subsubclass, ' - ', subsubsubclass, ': ', count_entries(tree1[subclass][subsubclass][subsubsubclass]))\n",
    "print(len(info))"
   ]
  },
  {
   "cell_type": "code",
   "execution_count": 17,
   "metadata": {},
   "outputs": [
    {
     "data": {
      "text/plain": [
       "[1, 4, 5, 1, 2, 1, 1, 1, 1, 1]"
      ]
     },
     "execution_count": 17,
     "metadata": {},
     "output_type": "execute_result"
    }
   ],
   "source": [
    "distr_data[:10]"
   ]
  },
  {
   "cell_type": "code",
   "execution_count": 18,
   "metadata": {},
   "outputs": [
    {
     "data": {
      "text/plain": [
       "('number of total classes', 10897)"
      ]
     },
     "execution_count": 18,
     "metadata": {},
     "output_type": "execute_result"
    }
   ],
   "source": [
    "'number of total classes', len(distr_data)"
   ]
  },
  {
   "cell_type": "code",
   "execution_count": 19,
   "metadata": {},
   "outputs": [
    {
     "data": {
      "text/plain": [
       "('average number of entries per class', 14.613196292557584)"
      ]
     },
     "execution_count": 19,
     "metadata": {},
     "output_type": "execute_result"
    }
   ],
   "source": [
    "'average number of entries per class', np.mean(distr_data)"
   ]
  },
  {
   "cell_type": "code",
   "execution_count": 20,
   "metadata": {},
   "outputs": [
    {
     "data": {
      "text/plain": [
       "('median number of entries per class', 1.0)"
      ]
     },
     "execution_count": 20,
     "metadata": {},
     "output_type": "execute_result"
    }
   ],
   "source": [
    "'median number of entries per class', np.median(distr_data)"
   ]
  },
  {
   "cell_type": "code",
   "execution_count": 21,
   "metadata": {},
   "outputs": [
    {
     "data": {
      "text/plain": [
       "('max number of entries per class', 7145)"
      ]
     },
     "execution_count": 21,
     "metadata": {},
     "output_type": "execute_result"
    }
   ],
   "source": [
    "'max number of entries per class', np.max(distr_data)"
   ]
  },
  {
   "cell_type": "code",
   "execution_count": 22,
   "metadata": {},
   "outputs": [
    {
     "data": {
      "text/plain": [
       "('min number of entries per class', 1)"
      ]
     },
     "execution_count": 22,
     "metadata": {},
     "output_type": "execute_result"
    }
   ],
   "source": [
    "'min number of entries per class', np.min(distr_data)"
   ]
  },
  {
   "cell_type": "code",
   "execution_count": 23,
   "metadata": {},
   "outputs": [
    {
     "data": {
      "text/plain": [
       "('total number of entries (with repetitions)', 159240)"
      ]
     },
     "execution_count": 23,
     "metadata": {},
     "output_type": "execute_result"
    }
   ],
   "source": [
    "'total number of entries (with repetitions)', np.sum(distr_data)"
   ]
  },
  {
   "cell_type": "code",
   "execution_count": 24,
   "metadata": {},
   "outputs": [
    {
     "name": "stdout",
     "output_type": "stream",
     "text": [
      "people  -  named individuals  -  2420\n",
      "people  -  portraits  -  2417\n",
      "people  -  actions: postures and motions  -  6008\n",
      "people  -  adults  -  14034\n",
      "people  -  groups  -  2947\n",
      "people  -  body  -  2559\n",
      "people  -  children  -  2177\n",
      "people  -  nudes  -  1645\n",
      "people  -  actions: processes and functions  -  1170\n",
      "people  -  actions: expressive  -  1839\n",
      "people  -  ethnicity  -  468\n",
      "people  -  diseases and conditions  -  572\n",
      "people  -  named groups  -  53\n",
      "people  -  named families  -  49\n",
      "objects  -  clothing and personal effects  -  3424\n",
      "objects  -  fine art and design, named works  -  770\n",
      "objects  -  furnishings  -  1826\n",
      "objects  -  religious and ceremonial  -  783\n",
      "objects  -  reading, writing, printed matter  -  1342\n",
      "objects  -  vessels and containers  -  1531\n",
      "objects  -  food and drink  -  509\n",
      "objects  -  kitchen  -  431\n",
      "objects  -  fine arts and music  -  1446\n",
      "objects  -  weapons  -  686\n",
      "objects  -  electrical appliances  -  174\n",
      "objects  -  agriculture, gardening & fishing  -  667\n",
      "objects  -  sports and games  -  134\n",
      "objects  -  toys and models  -  234\n",
      "objects  -  domestic  -  278\n",
      "objects  -  scientific and measuring  -  351\n",
      "objects  -  heating and lighting  -  500\n",
      "objects  -  miscellaneous  -  415\n",
      "objects  -  tools and machinery  -  708\n",
      "objects  -  medical  -  110\n",
      "objects  -  materials  -  3\n",
      "places  -  UK counties  -  3076\n",
      "places  -  UK countries and regions  -  4004\n",
      "places  -  UK cities, towns and villages  -  2284\n",
      "places  -  countries and continents  -  2757\n",
      "places  -  cities, towns, villages (non-UK)  -  1924\n",
      "places  -  natural features (non-UK)  -  617\n",
      "places  -  UK London  -  779\n",
      "places  -  mythical, religious, fictional  -  215\n",
      "places  -  UK natural features  -  1314\n",
      "places  -  UK man-made landmarks  -  234\n",
      "places  -  man-made landmarks (non-UK)  -  64\n",
      "places  -  historical: imagined views  -  85\n",
      "architecture  -  religious  -  983\n",
      "architecture  -  townscapes, man-made features  -  4669\n",
      "architecture  -  bridges and viaducts  -  798\n",
      "architecture  -  industrial  -  538\n",
      "architecture  -  residential  -  1301\n",
      "architecture  -  public and municipal  -  529\n",
      "architecture  -  features  -  2555\n",
      "architecture  -  garden structures  -  580\n",
      "architecture  -  monuments  -  321\n",
      "architecture  -  periods and styles  -  1004\n",
      "architecture  -  ruins  -  814\n",
      "architecture  -  places of entertainment  -  172\n",
      "architecture  -  agricultural  -  204\n",
      "architecture  -  military  -  958\n",
      "abstraction  -  non-representational  -  6132\n",
      "abstraction  -  from recognisable sources  -  3190\n",
      "society  -  transport: water  -  2301\n",
      "society  -  transport: land  -  1471\n",
      "society  -  social comment  -  1571\n",
      "society  -  birth to death  -  627\n",
      "society  -  sex and relationships  -  666\n",
      "society  -  lifestyle and culture  -  840\n",
      "society  -  dress: ceremonial/royal  -  80\n",
      "society  -  nationality  -  358\n",
      "society  -  family  -  550\n",
      "society  -  government and politics  -  385\n",
      "society  -  health and welfare  -  167\n",
      "society  -  crime and punishment  -  313\n",
      "society  -  dress: nations/regions  -  155\n",
      "society  -  transport: air  -  139\n",
      "society  -  dress: fantasy/fancy  -  283\n",
      "society  -  education, science and learning  -  389\n",
      "nature  -  water: inland  -  2735\n",
      "nature  -  natural phenomena  -  1513\n",
      "nature  -  plants and flowers  -  1511\n",
      "nature  -  animals: features  -  448\n",
      "nature  -  animals: mammals  -  3233\n",
      "nature  -  landscape  -  6206\n",
      "nature  -  times of the day  -  916\n",
      "nature  -  trees  -  1511\n",
      "nature  -  animals: birds  -  895\n",
      "nature  -  animals: actions  -  390\n",
      "nature  -  animals: fantastic  -  354\n",
      "nature  -  seascapes and coasts  -  2056\n",
      "nature  -  weather  -  1704\n",
      "nature  -  seasons  -  303\n",
      "nature  -  animals: fish and aquatic life  -  190\n",
      "nature  -  animals: insects & lower animals  -  172\n",
      "nature  -  astronomy  -  634\n",
      "nature  -  animals: reptiles  -  86\n",
      "emotions, concepts and ideas  -  emotions and human qualities  -  1746\n",
      "emotions, concepts and ideas  -  universal concepts  -  1797\n",
      "emotions, concepts and ideas  -  formal qualities  -  4775\n",
      "interiors  -  workspaces  -  346\n",
      "interiors  -  domestic  -  1036\n",
      "interiors  -  public and municipal  -  302\n",
      "interiors  -  places of entertainment  -  150\n",
      "interiors  -  religious  -  144\n",
      "work and occupations  -  equestrian and sporting  -  92\n",
      "work and occupations  -  arts and entertainment  -  1064\n",
      "work and occupations  -  agriculture and fishing  -  762\n",
      "work and occupations  -  royalty and social rank  -  328\n",
      "work and occupations  -  domestic  -  384\n",
      "work and occupations  -  public service  -  174\n",
      "work and occupations  -  literary  -  235\n",
      "work and occupations  -  trading and commercial  -  325\n",
      "work and occupations  -  industrial and crafts  -  292\n",
      "work and occupations  -  military  -  703\n",
      "work and occupations  -  religious  -  251\n",
      "work and occupations  -  educational and scientific  -  142\n",
      "work and occupations  -  crime and punishment  -  153\n",
      "work and occupations  -  medical  -  46\n",
      "symbols & personifications  -  birth to death  -  85\n",
      "symbols & personifications  -  abstract concepts  -  101\n",
      "symbols & personifications  -  inscriptions  -  2252\n",
      "symbols & personifications  -  countries  -  21\n",
      "symbols & personifications  -  religious  -  90\n",
      "symbols & personifications  -  politics  -  24\n",
      "symbols & personifications  -  society  -  48\n",
      "symbols & personifications  -  emotional states and conditions  -  108\n",
      "symbols & personifications  -  nature  -  36\n",
      "symbols & personifications  -  people  -  8\n",
      "symbols & personifications  -  mythological  -  19\n",
      "symbols & personifications  -  gender  -  27\n",
      "religion and belief  -  classical myths: gods and heroes  -  439\n",
      "religion and belief  -  classical myths: events, themes  -  60\n",
      "religion and belief  -  world religions  -  77\n",
      "religion and belief  -  universal religious imagery  -  601\n",
      "religion and belief  -  Judaeo-Christian imagery  -  503\n",
      "religion and belief  -  Bible: New Testament  -  347\n",
      "religion and belief  -  magic and occultism  -  181\n",
      "religion and belief  -  mysticism  -  194\n",
      "religion and belief  -  Bible: Old Testament  -  248\n",
      "religion and belief  -  Saints  -  135\n",
      "religion and belief  -  classical myths: creatures  -  77\n",
      "leisure and pastimes  -  sport  -  316\n",
      "leisure and pastimes  -  music and entertainment  -  712\n",
      "leisure and pastimes  -  recreational activities  -  1053\n",
      "leisure and pastimes  -  art and craft  -  249\n",
      "leisure and pastimes  -  eating and drinking  -  311\n",
      "history  -  politics and society  -  783\n",
      "history  -  military: World War I  -  159\n",
      "history  -  military: World War II  -  166\n",
      "history  -  arts  -  25\n",
      "history  -  military  -  156\n",
      "history  -  religious  -  15\n",
      "history  -  classical  -  48\n",
      "literature and fiction  -  characters  -  318\n",
      "literature and fiction  -  classical  -  159\n",
      "literature and fiction  -  literature (not Shakespeare)  -  1597\n",
      "literature and fiction  -  film, music and ballet  -  128\n",
      "literature and fiction  -  tales, legends and traditional  -  78\n",
      "literature and fiction  -  Shakespeare  -  105\n",
      "group/movement  -  21st century  -  1\n"
     ]
    }
   ],
   "source": [
    "images_subclasses = {}\n",
    "for subclass in tree1.keys():\n",
    "    for subsubclass in tree1[subclass].keys():\n",
    "        images_subclasses[subsubclass] = 0\n",
    "        for subsubsubclass in tree1[subclass][subsubclass].keys():\n",
    "            images_subclasses[subsubclass] += count_entries(tree1[subclass][subsubclass][subsubsubclass])\n",
    "        print(subclass, ' - ', subsubclass, ' - ', images_subclasses[subsubclass])"
   ]
  },
  {
   "cell_type": "code",
   "execution_count": 25,
   "metadata": {},
   "outputs": [
    {
     "name": "stdout",
     "output_type": "stream",
     "text": [
      "people 38358\n",
      "objects 16322\n",
      "places 17353\n",
      "architecture 15426\n",
      "abstraction 9322\n",
      "society 10295\n",
      "nature 24857\n",
      "emotions, concepts and ideas 8318\n",
      "interiors 1978\n",
      "work and occupations 4951\n",
      "symbols & personifications 2819\n",
      "religion and belief 2862\n",
      "leisure and pastimes 2641\n",
      "history 1352\n",
      "literature and fiction 2385\n",
      "group/movement 1\n"
     ]
    }
   ],
   "source": [
    "images_classes = {}\n",
    "for subclass in tree1.keys():\n",
    "    images_classes[subclass] = 0\n",
    "    for subsubclass in tree1[subclass].keys():\n",
    "        for subsubsubclass in tree1[subclass][subsubclass].keys():\n",
    "            images_classes[subclass] += count_entries(tree1[subclass][subsubclass][subsubsubclass])\n",
    "    print(subclass, images_classes[subclass])"
   ]
  },
  {
   "cell_type": "markdown",
   "metadata": {},
   "source": [
    "### Unpacking data in folder structure\n",
    "Now that the tree is built, I can unpack the data retrieved by following the image urls into a format the can be easily handled using Tensorflow's flow_from_directories"
   ]
  },
  {
   "cell_type": "code",
   "execution_count": null,
   "metadata": {},
   "outputs": [],
   "source": [
    "from zipfile import ZipFile\n",
    "with ZipFile(os.path.join(\"D:\", \"collection\", \"data_tate.zip\"), 'r') as zipObj:\n",
    "    listOfFileNames = zipObj.namelist()\n",
    "    print(listOfFileNames[2])\n",
    "    for class1 in tree1.keys():\n",
    "        for class2 in tree1[class1].keys():\n",
    "            for class3 in tree1[class1][class2].keys():\n",
    "                for file in tree1[class1][class2][class3]:\n",
    "                    try:\n",
    "                        zipObj.extract(file, os.path.join( \"D:\", \"collection\", \"data\", class1, class2, class3, file))\n",
    "                    except:\n",
    "                        print('file not found: ' + file)"
   ]
  },
  {
   "cell_type": "code",
   "execution_count": null,
   "metadata": {},
   "outputs": [],
   "source": []
  }
 ],
 "metadata": {
  "kernelspec": {
   "display_name": "Python 3",
   "language": "python",
   "name": "python3"
  },
  "language_info": {
   "codemirror_mode": {
    "name": "ipython",
    "version": 3
   },
   "file_extension": ".py",
   "mimetype": "text/x-python",
   "name": "python",
   "nbconvert_exporter": "python",
   "pygments_lexer": "ipython3",
   "version": "3.7.6"
  }
 },
 "nbformat": 4,
 "nbformat_minor": 2
}
