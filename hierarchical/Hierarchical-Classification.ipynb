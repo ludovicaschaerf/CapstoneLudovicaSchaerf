{
 "cells": [
  {
   "cell_type": "code",
   "execution_count": 1,
   "metadata": {},
   "outputs": [
    {
     "name": "stdout",
     "output_type": "stream",
     "text": [
      "2.1.0\n"
     ]
    }
   ],
   "source": [
    "from __future__ import absolute_import, division, print_function, unicode_literals\n",
    "\n",
    "#try:\n",
    "    # %tensorflow_version only exists in Colab.\n",
    "#    %tensorflow_version 2.0\n",
    "#except Exception:\n",
    "#    pass\n",
    "\n",
    "# TensorFlow and tf.keras\n",
    "import tensorflow as tf\n",
    "from tensorflow import keras\n",
    "# Helper libraries\n",
    "import numpy as np\n",
    "import matplotlib.pyplot as plt\n",
    "import pandas as pd\n",
    "from sklearn.utils import shuffle\n",
    "from sklearn.metrics import confusion_matrix, multilabel_confusion_matrix\n",
    "\n",
    "tf.config.experimental.set_visible_devices([], 'GPU')\n",
    "\n",
    "AUTOTUNE = tf.data.experimental.AUTOTUNE\n",
    "import IPython.display as display\n",
    "\n",
    "\n",
    "import os\n",
    "from os import listdir\n",
    "from os.path import isfile, join\n",
    "import pickle\n",
    "import random\n",
    "#importing module\n",
    "import sys\n",
    "sys.path.insert(0, '../data')\n",
    "from datahandler_multilabel import create_dataset\n",
    "\n",
    "# Helper libraries\n",
    "import numpy as np\n",
    "import matplotlib.pyplot as plt\n",
    "\n",
    "\n",
    "\n",
    "print(tf.__version__)\n",
    "#base_model = model.output"
   ]
  },
  {
   "cell_type": "code",
   "execution_count": 2,
   "metadata": {},
   "outputs": [],
   "source": [
    "with open('../data/train_test_split_hierarchical.pkl', 'rb') as infile:\n",
    "    train_x, train_y, train_y_, val_x, val_y, val_y_, test_x, test_y, test_y_ = pickle.load(infile)"
   ]
  },
  {
   "cell_type": "code",
   "execution_count": 3,
   "metadata": {},
   "outputs": [
    {
     "name": "stdout",
     "output_type": "stream",
     "text": [
      "148\n"
     ]
    }
   ],
   "source": [
    "train_generator_coarse = create_dataset(train_x, train_y)\n",
    "val_generator_coarse = create_dataset(val_x, val_y)\n",
    "test_generator_coarse = create_dataset(test_x, test_y, BATCH_SIZE=1)\n",
    "last = [14, 21, 12, 14, 2, 16, 18, 3, 5, 14, 12, 11, 5, 7, 6]\n",
    "discard = [34,47,113,117,118,146]\n",
    "last = [14, 20, 11, 14, 2, 16, 18, 3, 5, 11, 12, 11, 4, 7, 6]\n",
    "print(sum(last)-len(discard))\n",
    "train_generator_fine = [0]*len(last)\n",
    "val_generator_fine = [0]*len(last)\n",
    "test_generator_fine = [0]*len(last)\n",
    "for i in range(len(last)):\n",
    "    train_generator_fine[i] = create_dataset(train_x, [elt[sum(last[:i]):sum(last[:i+1])] for elt in train_y_], BATCH_SIZE=32)\n",
    "    val_generator_fine[i] = create_dataset(val_x, [elt[sum(last[:i]):sum(last[:i+1])] for elt in val_y_], BATCH_SIZE=32)\n",
    "    test_generator_fine[i] = create_dataset(test_x, [elt[sum(last[:i]):sum(last[:i+1])] for elt in test_y_], BATCH_SIZE=1)"
   ]
  },
  {
   "cell_type": "code",
   "execution_count": 24,
   "metadata": {},
   "outputs": [],
   "source": [
    "class Coarse(tf.keras.layers.Layer):\n",
    "    def __init__(self, filters, shape=(224,224,3), kernel_size=3,\n",
    "                 pool_size=(2,2), activation='relu', padding='same'):\n",
    "        super(Coarse, self).__init__()\n",
    "        self.input_layer = tf.keras.layers.InputLayer(\n",
    "            #input_shape = shape,\n",
    "        )\n",
    "        self.conv_layer = tf.keras.layers.Conv2D(\n",
    "            filters = filters[0], \n",
    "            kernel_size = kernel_size,\n",
    "            activation = activation,\n",
    "            )\n",
    "        self.nn_pooling = tf.keras.layers.MaxPooling2D(\n",
    "            pool_size = pool_size,\n",
    "            padding = padding,\n",
    "            )\n",
    "        self.nn_dropout = tf.keras.layers.Dropout(0.2)\n",
    "        self.nn_batchnorm = tf.keras.layers.BatchNormalization(axis=-1)\n",
    "        self.flat = tf.keras.layers.Flatten()#input_shape = (13, 13, 64))\n",
    "        self.dense = tf.keras.layers.Dense(filters[1], activation='relu')\n",
    "        self.out = tf.keras.layers.Dense(filters[2], activation='softmax')\n",
    "\n",
    "        \n",
    "        \n",
    "    def call(self, input_features):\n",
    "        activation = self.input_layer(input_features)\n",
    "        activation = self.conv_layer(activation)\n",
    "        activation = self.nn_batchnorm(activation)\n",
    "        activation = self.nn_pooling(activation)\n",
    "        print(input_features.shape,activation.shape)\n",
    "        activation = self.flat(activation)\n",
    "        activation = self.dense(activation)\n",
    "        return self.out(activation)\n"
   ]
  },
  {
   "cell_type": "code",
   "execution_count": 4,
   "metadata": {},
   "outputs": [],
   "source": [
    "def macro_f1(y, y_hat, thresh=0.5):\n",
    "    y_pred = tf.cast(tf.greater(y_hat, thresh), tf.float32)\n",
    "    tp = tf.cast(tf.math.count_nonzero(y_pred * y, axis=0), tf.float32)\n",
    "    fp = tf.cast(tf.math.count_nonzero(y_pred * (1 - y), axis=0), tf.float32)\n",
    "    fn = tf.cast(tf.math.count_nonzero((1 - y_pred) * y, axis=0), tf.float32)\n",
    "    f1 = 2*tp / (2*tp + fn + fp + 1e-16)\n",
    "    macro_f1 = tf.reduce_mean(f1)\n",
    "    return macro_f1\n",
    "\n",
    "def accuracy(y, y_hat):\n",
    "    y_pred = tf.cast(tf.greater(y_hat, 0.5), tf.float32)\n",
    "    tp = tf.cast(tf.math.count_nonzero(y_pred * y, axis=0), tf.float32)\n",
    "    fp = tf.cast(tf.math.count_nonzero(y_pred * (1 - y), axis=0), tf.float32)\n",
    "    fn = tf.cast(tf.math.count_nonzero((1 - y_pred) * y, axis=0), tf.float32)\n",
    "    tn = tf.cast(tf.math.count_nonzero((1 - y_pred) * (1 - y), axis=0), tf.float32)\n",
    "    accuracy = (tp + tn) / (tp + tn + fn + fp)\n",
    "    accuracy = tf.reduce_mean(accuracy)\n",
    "    return accuracy\n",
    "\n",
    "def precision(y, y_hat):\n",
    "    y_pred = tf.cast(tf.greater(y_hat, 0.5), tf.float32)\n",
    "    tp = tf.cast(tf.math.count_nonzero(y_pred * y, axis=0), tf.float32)\n",
    "    fp = tf.cast(tf.math.count_nonzero(y_pred * (1 - y), axis=0), tf.float32)\n",
    "    pres = tp / (tp + fp + 1e-16)\n",
    "    precision = tf.reduce_mean(pres)\n",
    "    return precision\n",
    "\n",
    "def recall(y, y_hat):\n",
    "    y_pred = tf.cast(tf.greater(y_hat, 0.5), tf.float32)\n",
    "    tp = tf.cast(tf.math.count_nonzero(y_pred * y, axis=0), tf.float32)\n",
    "    fn = tf.cast(tf.math.count_nonzero((1 - y_pred) * y, axis=0), tf.float32)\n",
    "    rec = tp / (tp + fn + 1e-16)\n",
    "    recall = tf.reduce_mean(rec)\n",
    "    return recall"
   ]
  },
  {
   "cell_type": "code",
   "execution_count": 5,
   "metadata": {},
   "outputs": [],
   "source": [
    "file = 'training_flat_multilabelVGG_weight.h5'\n",
    "model_c = tf.keras.models.load_model('../multi-label/results/'+file, compile=False,)\n",
    "\n",
    "  \n",
    "model_c.compile(optimizer='adam',\n",
    "                loss='binary_crossentropy',\n",
    "                metrics=[accuracy, recall, precision, macro_f1])\n",
    "\n",
    "for i in range(len(model_c.layers)-1):\n",
    "    model_c.layers[i].set_weights(model_c.layers[i].get_weights())"
   ]
  },
  {
   "cell_type": "code",
   "execution_count": null,
   "metadata": {},
   "outputs": [],
   "source": [
    "index = 30\n",
    "step = 5\n",
    "stop = 50\n",
    "\n",
    "while index < stop:\n",
    "    model_c.fit(train_generator_coarse,\n",
    "          epochs=index+step,\n",
    "          verbose=1, initial_epoch=index,\n",
    "          validation_data = val_generator_coarse\n",
    "          )\n",
    "    index += step"
   ]
  },
  {
   "cell_type": "code",
   "execution_count": 6,
   "metadata": {},
   "outputs": [],
   "source": [
    "#constructing fine classifiers\n",
    "class Fine(tf.keras.layers.Layer):\n",
    "    def __init__(self, filters, shape=(224,224,3), kernel_size=3,\n",
    "                 pool_size=(2,2), activation='relu', padding='same'):\n",
    "        super(Fine, self).__init__()\n",
    "        self.input_layer = tf.keras.layers.InputLayer(\n",
    "            #input_shape = shape,\n",
    "        )\n",
    "        self.conv_layer = tf.keras.layers.Conv2D(\n",
    "            filters = filters[0], \n",
    "            kernel_size = kernel_size,\n",
    "            activation = activation,\n",
    "            )\n",
    "        self.nn_pooling = tf.keras.layers.MaxPooling2D(\n",
    "            pool_size = pool_size,\n",
    "            padding = padding,\n",
    "            )\n",
    "        self.nn_dropout = tf.keras.layers.Dropout(0.2)\n",
    "        self.nn_batchnorm = tf.keras.layers.BatchNormalization(axis=-1)\n",
    "        self.flat = tf.keras.layers.Flatten()#input_shape = (13, 13, 64))\n",
    "        self.dense = tf.keras.layers.Dense(filters[1], activation='relu')\n",
    "        self.out = tf.keras.layers.Dense(filters[2], activation='softmax')\n",
    "\n",
    "        \n",
    "        \n",
    "    def call(self, input_features):\n",
    "        activation = self.input_layer(input_features)\n",
    "        activation = self.conv_layer(activation)\n",
    "        activation = self.nn_batchnorm(activation)\n",
    "        activation = self.nn_pooling(activation)\n",
    "        activation = self.flat(activation)\n",
    "        activation = self.dense(activation)\n",
    "        return self.out(activation)\n",
    "\n",
    "\n",
    "def fine_model(last):\n",
    "    model_fine = keras.Sequential([\n",
    "        #base_model,\n",
    "        Fine([64, 128, last])\n",
    "    ])\n",
    "\n",
    "  \n",
    "    model_fine.compile(optimizer='adam',\n",
    "                    loss='binary_crossentropy',\n",
    "                    metrics=[accuracy, recall, precision, macro_f1])\n",
    "\n",
    "    for i in range(len(model_fine.layers)-1):\n",
    "        model_fine.layers[i].set_weights(model_c.layers[i].get_weights())\n",
    "    return model_fine"
   ]
  },
  {
   "cell_type": "code",
   "execution_count": 7,
   "metadata": {},
   "outputs": [],
   "source": [
    "#last = [14, 21, 12, 14, 2, 16, 18, 3, 5, 14, 12, 11, 5, 7, 6]\n",
    "fine_models = {'models' : [{} for i in range(15)], 'yhf' : [{} for i in range(2)]}\n",
    "\n",
    "for i in range(15):\n",
    "    model_i = fine_model(last[i])\n",
    "    fine_models['models'][i] = model_i"
   ]
  },
  {
   "cell_type": "code",
   "execution_count": 8,
   "metadata": {},
   "outputs": [],
   "source": [
    "def get_error(y,yh):\n",
    "    # Threshold \n",
    "    yht = np.zeros(np.shape(yh))\n",
    "    yht[np.arange(len(yh)), yh.argmax(1)] = 1\n",
    "    # Evaluate Error\n",
    "    error = np.count_nonzero(np.count_nonzero(y-yht,1))/len(y)\n",
    "    return error"
   ]
  },
  {
   "cell_type": "code",
   "execution_count": 11,
   "metadata": {},
   "outputs": [
    {
     "name": "stdout",
     "output_type": "stream",
     "text": [
      "Train for 563 steps, validate for 94 steps\n",
      "563/563 [==============================] - 1233s 2s/step - loss: 1.6025 - accuracy: 0.8957 - recall: 0.0712 - precision: 0.0463 - macro_f1: 0.0502 - val_loss: 1.3938 - val_accuracy: 0.9093 - val_recall: 0.0714 - val_precision: 0.0402 - val_macro_f1: 0.0505\n",
      "Train for 563 steps, validate for 94 steps\n",
      "Epoch 2/2\n",
      "563/563 [==============================] - 1192s 2s/step - loss: 1.5584 - accuracy: 0.8986 - recall: 0.0714 - precision: 0.0374 - macro_f1: 0.0475 - val_loss: 1.3943 - val_accuracy: 0.9092 - val_recall: 0.0714 - val_precision: 0.0394 - val_macro_f1: 0.0503\n",
      "Train for 563 steps, validate for 94 steps\n",
      "Epoch 3/3\n",
      "563/563 [==============================] - 1347s 2s/step - loss: 1.5583 - accuracy: 0.8986 - recall: 0.0714 - precision: 0.0374 - macro_f1: 0.0475 - val_loss: 1.3944 - val_accuracy: 0.9092 - val_recall: 0.0714 - val_precision: 0.0394 - val_macro_f1: 0.0504\n",
      "Fine Classifier 0 Error: \n",
      "Train for 563 steps, validate for 94 steps\n",
      "563/563 [==============================] - 1350s 2s/step - loss: 1.1252 - accuracy: 0.9264 - recall: 0.0382 - precision: 0.0109 - macro_f1: 0.0140 - val_loss: 1.1734 - val_accuracy: 0.9233 - val_recall: 0.0180 - val_precision: 0.0029 - val_macro_f1: 0.0035\n",
      "Train for 563 steps, validate for 94 steps\n",
      "Epoch 2/2\n",
      "563/563 [==============================] - 1338s 2s/step - loss: 1.1099 - accuracy: 0.9275 - recall: 0.0366 - precision: 0.0077 - macro_f1: 0.0119 - val_loss: 1.1121 - val_accuracy: 0.9272 - val_recall: 0.0310 - val_precision: 0.0101 - val_macro_f1: 0.0132\n",
      "Train for 563 steps, validate for 94 steps\n",
      "Epoch 3/3\n",
      "563/563 [==============================] - 1327s 2s/step - loss: 1.1169 - accuracy: 0.9271 - recall: 0.0348 - precision: 0.0081 - macro_f1: 0.0121 - val_loss: 1.1155 - val_accuracy: 0.9271 - val_recall: 0.0328 - val_precision: 0.0048 - val_macro_f1: 0.0080\n",
      "Fine Classifier 1 Error: \n",
      "Train for 563 steps, validate for 94 steps\n",
      "221/563 [==========>...................] - ETA: 13:35 - loss: 2.0394 - accuracy: 0.8664 - recall: 0.0407 - precision: 0.0159 - macro_f1: 0.0178"
     ]
    },
    {
     "ename": "ResourceExhaustedError",
     "evalue": " OOM when allocating tensor with shape[788544,128] and type float on /job:localhost/replica:0/task:0/device:CPU:0 by allocator cpu\n\t [[node Adam/Adam/update_4/ResourceApplyAdam (defined at <ipython-input-11-debd31c6b462>:10) ]]\nHint: If you want to see a list of allocated tensors when OOM happens, add report_tensor_allocations_upon_oom to RunOptions for current allocation info.\n [Op:__inference_distributed_function_32429]\n\nErrors may have originated from an input operation.\nInput Source operations connected to node Adam/Adam/update_4/ResourceApplyAdam:\n sequential_2/fine_2/dense_4/MatMul/ReadVariableOp (defined at <ipython-input-6-bbac023ba889>:32)\n\nFunction call stack:\ndistributed_function\n",
     "output_type": "error",
     "traceback": [
      "\u001b[1;31m---------------------------------------------------------------------------\u001b[0m",
      "\u001b[1;31mResourceExhaustedError\u001b[0m                    Traceback (most recent call last)",
      "\u001b[1;32m<ipython-input-11-debd31c6b462>\u001b[0m in \u001b[0;36m<module>\u001b[1;34m\u001b[0m\n\u001b[0;32m      8\u001b[0m           \u001b[0mepochs\u001b[0m \u001b[1;33m=\u001b[0m \u001b[0mindex\u001b[0m\u001b[1;33m+\u001b[0m\u001b[0mstep\u001b[0m\u001b[1;33m,\u001b[0m\u001b[1;33m\u001b[0m\u001b[1;33m\u001b[0m\u001b[0m\n\u001b[0;32m      9\u001b[0m           \u001b[0mverbose\u001b[0m\u001b[1;33m=\u001b[0m\u001b[1;36m1\u001b[0m\u001b[1;33m,\u001b[0m \u001b[0minitial_epoch\u001b[0m\u001b[1;33m=\u001b[0m\u001b[0mindex\u001b[0m\u001b[1;33m,\u001b[0m\u001b[1;33m\u001b[0m\u001b[1;33m\u001b[0m\u001b[0m\n\u001b[1;32m---> 10\u001b[1;33m           \u001b[0mvalidation_data\u001b[0m \u001b[1;33m=\u001b[0m \u001b[0mval_generator_fine\u001b[0m\u001b[1;33m[\u001b[0m\u001b[0mcat\u001b[0m\u001b[1;33m]\u001b[0m\u001b[1;33m\u001b[0m\u001b[1;33m\u001b[0m\u001b[0m\n\u001b[0m\u001b[0;32m     11\u001b[0m           )\n\u001b[0;32m     12\u001b[0m         \u001b[0mindex\u001b[0m \u001b[1;33m+=\u001b[0m \u001b[0mstep\u001b[0m\u001b[1;33m\u001b[0m\u001b[1;33m\u001b[0m\u001b[0m\n",
      "\u001b[1;32mc:\\users\\marco\\appdata\\local\\programs\\python\\python37\\lib\\site-packages\\tensorflow_core\\python\\keras\\engine\\training.py\u001b[0m in \u001b[0;36mfit\u001b[1;34m(self, x, y, batch_size, epochs, verbose, callbacks, validation_split, validation_data, shuffle, class_weight, sample_weight, initial_epoch, steps_per_epoch, validation_steps, validation_freq, max_queue_size, workers, use_multiprocessing, **kwargs)\u001b[0m\n\u001b[0;32m    817\u001b[0m         \u001b[0mmax_queue_size\u001b[0m\u001b[1;33m=\u001b[0m\u001b[0mmax_queue_size\u001b[0m\u001b[1;33m,\u001b[0m\u001b[1;33m\u001b[0m\u001b[1;33m\u001b[0m\u001b[0m\n\u001b[0;32m    818\u001b[0m         \u001b[0mworkers\u001b[0m\u001b[1;33m=\u001b[0m\u001b[0mworkers\u001b[0m\u001b[1;33m,\u001b[0m\u001b[1;33m\u001b[0m\u001b[1;33m\u001b[0m\u001b[0m\n\u001b[1;32m--> 819\u001b[1;33m         use_multiprocessing=use_multiprocessing)\n\u001b[0m\u001b[0;32m    820\u001b[0m \u001b[1;33m\u001b[0m\u001b[0m\n\u001b[0;32m    821\u001b[0m   def evaluate(self,\n",
      "\u001b[1;32mc:\\users\\marco\\appdata\\local\\programs\\python\\python37\\lib\\site-packages\\tensorflow_core\\python\\keras\\engine\\training_v2.py\u001b[0m in \u001b[0;36mfit\u001b[1;34m(self, model, x, y, batch_size, epochs, verbose, callbacks, validation_split, validation_data, shuffle, class_weight, sample_weight, initial_epoch, steps_per_epoch, validation_steps, validation_freq, max_queue_size, workers, use_multiprocessing, **kwargs)\u001b[0m\n\u001b[0;32m    340\u001b[0m                 \u001b[0mmode\u001b[0m\u001b[1;33m=\u001b[0m\u001b[0mModeKeys\u001b[0m\u001b[1;33m.\u001b[0m\u001b[0mTRAIN\u001b[0m\u001b[1;33m,\u001b[0m\u001b[1;33m\u001b[0m\u001b[1;33m\u001b[0m\u001b[0m\n\u001b[0;32m    341\u001b[0m                 \u001b[0mtraining_context\u001b[0m\u001b[1;33m=\u001b[0m\u001b[0mtraining_context\u001b[0m\u001b[1;33m,\u001b[0m\u001b[1;33m\u001b[0m\u001b[1;33m\u001b[0m\u001b[0m\n\u001b[1;32m--> 342\u001b[1;33m                 total_epochs=epochs)\n\u001b[0m\u001b[0;32m    343\u001b[0m             \u001b[0mcbks\u001b[0m\u001b[1;33m.\u001b[0m\u001b[0mmake_logs\u001b[0m\u001b[1;33m(\u001b[0m\u001b[0mmodel\u001b[0m\u001b[1;33m,\u001b[0m \u001b[0mepoch_logs\u001b[0m\u001b[1;33m,\u001b[0m \u001b[0mtraining_result\u001b[0m\u001b[1;33m,\u001b[0m \u001b[0mModeKeys\u001b[0m\u001b[1;33m.\u001b[0m\u001b[0mTRAIN\u001b[0m\u001b[1;33m)\u001b[0m\u001b[1;33m\u001b[0m\u001b[1;33m\u001b[0m\u001b[0m\n\u001b[0;32m    344\u001b[0m \u001b[1;33m\u001b[0m\u001b[0m\n",
      "\u001b[1;32mc:\\users\\marco\\appdata\\local\\programs\\python\\python37\\lib\\site-packages\\tensorflow_core\\python\\keras\\engine\\training_v2.py\u001b[0m in \u001b[0;36mrun_one_epoch\u001b[1;34m(model, iterator, execution_function, dataset_size, batch_size, strategy, steps_per_epoch, num_samples, mode, training_context, total_epochs)\u001b[0m\n\u001b[0;32m    126\u001b[0m         step=step, mode=mode, size=current_batch_size) as batch_logs:\n\u001b[0;32m    127\u001b[0m       \u001b[1;32mtry\u001b[0m\u001b[1;33m:\u001b[0m\u001b[1;33m\u001b[0m\u001b[1;33m\u001b[0m\u001b[0m\n\u001b[1;32m--> 128\u001b[1;33m         \u001b[0mbatch_outs\u001b[0m \u001b[1;33m=\u001b[0m \u001b[0mexecution_function\u001b[0m\u001b[1;33m(\u001b[0m\u001b[0miterator\u001b[0m\u001b[1;33m)\u001b[0m\u001b[1;33m\u001b[0m\u001b[1;33m\u001b[0m\u001b[0m\n\u001b[0m\u001b[0;32m    129\u001b[0m       \u001b[1;32mexcept\u001b[0m \u001b[1;33m(\u001b[0m\u001b[0mStopIteration\u001b[0m\u001b[1;33m,\u001b[0m \u001b[0merrors\u001b[0m\u001b[1;33m.\u001b[0m\u001b[0mOutOfRangeError\u001b[0m\u001b[1;33m)\u001b[0m\u001b[1;33m:\u001b[0m\u001b[1;33m\u001b[0m\u001b[1;33m\u001b[0m\u001b[0m\n\u001b[0;32m    130\u001b[0m         \u001b[1;31m# TODO(kaftan): File bug about tf function and errors.OutOfRangeError?\u001b[0m\u001b[1;33m\u001b[0m\u001b[1;33m\u001b[0m\u001b[1;33m\u001b[0m\u001b[0m\n",
      "\u001b[1;32mc:\\users\\marco\\appdata\\local\\programs\\python\\python37\\lib\\site-packages\\tensorflow_core\\python\\keras\\engine\\training_v2_utils.py\u001b[0m in \u001b[0;36mexecution_function\u001b[1;34m(input_fn)\u001b[0m\n\u001b[0;32m     96\u001b[0m     \u001b[1;31m# `numpy` translates Tensors to values in Eager mode.\u001b[0m\u001b[1;33m\u001b[0m\u001b[1;33m\u001b[0m\u001b[1;33m\u001b[0m\u001b[0m\n\u001b[0;32m     97\u001b[0m     return nest.map_structure(_non_none_constant_value,\n\u001b[1;32m---> 98\u001b[1;33m                               distributed_function(input_fn))\n\u001b[0m\u001b[0;32m     99\u001b[0m \u001b[1;33m\u001b[0m\u001b[0m\n\u001b[0;32m    100\u001b[0m   \u001b[1;32mreturn\u001b[0m \u001b[0mexecution_function\u001b[0m\u001b[1;33m\u001b[0m\u001b[1;33m\u001b[0m\u001b[0m\n",
      "\u001b[1;32mc:\\users\\marco\\appdata\\local\\programs\\python\\python37\\lib\\site-packages\\tensorflow_core\\python\\eager\\def_function.py\u001b[0m in \u001b[0;36m__call__\u001b[1;34m(self, *args, **kwds)\u001b[0m\n\u001b[0;32m    566\u001b[0m         \u001b[0mxla_context\u001b[0m\u001b[1;33m.\u001b[0m\u001b[0mExit\u001b[0m\u001b[1;33m(\u001b[0m\u001b[1;33m)\u001b[0m\u001b[1;33m\u001b[0m\u001b[1;33m\u001b[0m\u001b[0m\n\u001b[0;32m    567\u001b[0m     \u001b[1;32melse\u001b[0m\u001b[1;33m:\u001b[0m\u001b[1;33m\u001b[0m\u001b[1;33m\u001b[0m\u001b[0m\n\u001b[1;32m--> 568\u001b[1;33m       \u001b[0mresult\u001b[0m \u001b[1;33m=\u001b[0m \u001b[0mself\u001b[0m\u001b[1;33m.\u001b[0m\u001b[0m_call\u001b[0m\u001b[1;33m(\u001b[0m\u001b[1;33m*\u001b[0m\u001b[0margs\u001b[0m\u001b[1;33m,\u001b[0m \u001b[1;33m**\u001b[0m\u001b[0mkwds\u001b[0m\u001b[1;33m)\u001b[0m\u001b[1;33m\u001b[0m\u001b[1;33m\u001b[0m\u001b[0m\n\u001b[0m\u001b[0;32m    569\u001b[0m \u001b[1;33m\u001b[0m\u001b[0m\n\u001b[0;32m    570\u001b[0m     \u001b[1;32mif\u001b[0m \u001b[0mtracing_count\u001b[0m \u001b[1;33m==\u001b[0m \u001b[0mself\u001b[0m\u001b[1;33m.\u001b[0m\u001b[0m_get_tracing_count\u001b[0m\u001b[1;33m(\u001b[0m\u001b[1;33m)\u001b[0m\u001b[1;33m:\u001b[0m\u001b[1;33m\u001b[0m\u001b[1;33m\u001b[0m\u001b[0m\n",
      "\u001b[1;32mc:\\users\\marco\\appdata\\local\\programs\\python\\python37\\lib\\site-packages\\tensorflow_core\\python\\eager\\def_function.py\u001b[0m in \u001b[0;36m_call\u001b[1;34m(self, *args, **kwds)\u001b[0m\n\u001b[0;32m    597\u001b[0m       \u001b[1;31m# In this case we have created variables on the first call, so we run the\u001b[0m\u001b[1;33m\u001b[0m\u001b[1;33m\u001b[0m\u001b[1;33m\u001b[0m\u001b[0m\n\u001b[0;32m    598\u001b[0m       \u001b[1;31m# defunned version which is guaranteed to never create variables.\u001b[0m\u001b[1;33m\u001b[0m\u001b[1;33m\u001b[0m\u001b[1;33m\u001b[0m\u001b[0m\n\u001b[1;32m--> 599\u001b[1;33m       \u001b[1;32mreturn\u001b[0m \u001b[0mself\u001b[0m\u001b[1;33m.\u001b[0m\u001b[0m_stateless_fn\u001b[0m\u001b[1;33m(\u001b[0m\u001b[1;33m*\u001b[0m\u001b[0margs\u001b[0m\u001b[1;33m,\u001b[0m \u001b[1;33m**\u001b[0m\u001b[0mkwds\u001b[0m\u001b[1;33m)\u001b[0m  \u001b[1;31m# pylint: disable=not-callable\u001b[0m\u001b[1;33m\u001b[0m\u001b[1;33m\u001b[0m\u001b[0m\n\u001b[0m\u001b[0;32m    600\u001b[0m     \u001b[1;32melif\u001b[0m \u001b[0mself\u001b[0m\u001b[1;33m.\u001b[0m\u001b[0m_stateful_fn\u001b[0m \u001b[1;32mis\u001b[0m \u001b[1;32mnot\u001b[0m \u001b[1;32mNone\u001b[0m\u001b[1;33m:\u001b[0m\u001b[1;33m\u001b[0m\u001b[1;33m\u001b[0m\u001b[0m\n\u001b[0;32m    601\u001b[0m       \u001b[1;31m# Release the lock early so that multiple threads can perform the call\u001b[0m\u001b[1;33m\u001b[0m\u001b[1;33m\u001b[0m\u001b[1;33m\u001b[0m\u001b[0m\n",
      "\u001b[1;32mc:\\users\\marco\\appdata\\local\\programs\\python\\python37\\lib\\site-packages\\tensorflow_core\\python\\eager\\function.py\u001b[0m in \u001b[0;36m__call__\u001b[1;34m(self, *args, **kwargs)\u001b[0m\n\u001b[0;32m   2361\u001b[0m     \u001b[1;32mwith\u001b[0m \u001b[0mself\u001b[0m\u001b[1;33m.\u001b[0m\u001b[0m_lock\u001b[0m\u001b[1;33m:\u001b[0m\u001b[1;33m\u001b[0m\u001b[1;33m\u001b[0m\u001b[0m\n\u001b[0;32m   2362\u001b[0m       \u001b[0mgraph_function\u001b[0m\u001b[1;33m,\u001b[0m \u001b[0margs\u001b[0m\u001b[1;33m,\u001b[0m \u001b[0mkwargs\u001b[0m \u001b[1;33m=\u001b[0m \u001b[0mself\u001b[0m\u001b[1;33m.\u001b[0m\u001b[0m_maybe_define_function\u001b[0m\u001b[1;33m(\u001b[0m\u001b[0margs\u001b[0m\u001b[1;33m,\u001b[0m \u001b[0mkwargs\u001b[0m\u001b[1;33m)\u001b[0m\u001b[1;33m\u001b[0m\u001b[1;33m\u001b[0m\u001b[0m\n\u001b[1;32m-> 2363\u001b[1;33m     \u001b[1;32mreturn\u001b[0m \u001b[0mgraph_function\u001b[0m\u001b[1;33m.\u001b[0m\u001b[0m_filtered_call\u001b[0m\u001b[1;33m(\u001b[0m\u001b[0margs\u001b[0m\u001b[1;33m,\u001b[0m \u001b[0mkwargs\u001b[0m\u001b[1;33m)\u001b[0m  \u001b[1;31m# pylint: disable=protected-access\u001b[0m\u001b[1;33m\u001b[0m\u001b[1;33m\u001b[0m\u001b[0m\n\u001b[0m\u001b[0;32m   2364\u001b[0m \u001b[1;33m\u001b[0m\u001b[0m\n\u001b[0;32m   2365\u001b[0m   \u001b[1;33m@\u001b[0m\u001b[0mproperty\u001b[0m\u001b[1;33m\u001b[0m\u001b[1;33m\u001b[0m\u001b[0m\n",
      "\u001b[1;32mc:\\users\\marco\\appdata\\local\\programs\\python\\python37\\lib\\site-packages\\tensorflow_core\\python\\eager\\function.py\u001b[0m in \u001b[0;36m_filtered_call\u001b[1;34m(self, args, kwargs)\u001b[0m\n\u001b[0;32m   1609\u001b[0m          if isinstance(t, (ops.Tensor,\n\u001b[0;32m   1610\u001b[0m                            resource_variable_ops.BaseResourceVariable))),\n\u001b[1;32m-> 1611\u001b[1;33m         self.captured_inputs)\n\u001b[0m\u001b[0;32m   1612\u001b[0m \u001b[1;33m\u001b[0m\u001b[0m\n\u001b[0;32m   1613\u001b[0m   \u001b[1;32mdef\u001b[0m \u001b[0m_call_flat\u001b[0m\u001b[1;33m(\u001b[0m\u001b[0mself\u001b[0m\u001b[1;33m,\u001b[0m \u001b[0margs\u001b[0m\u001b[1;33m,\u001b[0m \u001b[0mcaptured_inputs\u001b[0m\u001b[1;33m,\u001b[0m \u001b[0mcancellation_manager\u001b[0m\u001b[1;33m=\u001b[0m\u001b[1;32mNone\u001b[0m\u001b[1;33m)\u001b[0m\u001b[1;33m:\u001b[0m\u001b[1;33m\u001b[0m\u001b[1;33m\u001b[0m\u001b[0m\n",
      "\u001b[1;32mc:\\users\\marco\\appdata\\local\\programs\\python\\python37\\lib\\site-packages\\tensorflow_core\\python\\eager\\function.py\u001b[0m in \u001b[0;36m_call_flat\u001b[1;34m(self, args, captured_inputs, cancellation_manager)\u001b[0m\n\u001b[0;32m   1690\u001b[0m       \u001b[1;31m# No tape is watching; skip to running the function.\u001b[0m\u001b[1;33m\u001b[0m\u001b[1;33m\u001b[0m\u001b[1;33m\u001b[0m\u001b[0m\n\u001b[0;32m   1691\u001b[0m       return self._build_call_outputs(self._inference_function.call(\n\u001b[1;32m-> 1692\u001b[1;33m           ctx, args, cancellation_manager=cancellation_manager))\n\u001b[0m\u001b[0;32m   1693\u001b[0m     forward_backward = self._select_forward_and_backward_functions(\n\u001b[0;32m   1694\u001b[0m         \u001b[0margs\u001b[0m\u001b[1;33m,\u001b[0m\u001b[1;33m\u001b[0m\u001b[1;33m\u001b[0m\u001b[0m\n",
      "\u001b[1;32mc:\\users\\marco\\appdata\\local\\programs\\python\\python37\\lib\\site-packages\\tensorflow_core\\python\\eager\\function.py\u001b[0m in \u001b[0;36mcall\u001b[1;34m(self, ctx, args, cancellation_manager)\u001b[0m\n\u001b[0;32m    543\u001b[0m               \u001b[0minputs\u001b[0m\u001b[1;33m=\u001b[0m\u001b[0margs\u001b[0m\u001b[1;33m,\u001b[0m\u001b[1;33m\u001b[0m\u001b[1;33m\u001b[0m\u001b[0m\n\u001b[0;32m    544\u001b[0m               \u001b[0mattrs\u001b[0m\u001b[1;33m=\u001b[0m\u001b[1;33m(\u001b[0m\u001b[1;34m\"executor_type\"\u001b[0m\u001b[1;33m,\u001b[0m \u001b[0mexecutor_type\u001b[0m\u001b[1;33m,\u001b[0m \u001b[1;34m\"config_proto\"\u001b[0m\u001b[1;33m,\u001b[0m \u001b[0mconfig\u001b[0m\u001b[1;33m)\u001b[0m\u001b[1;33m,\u001b[0m\u001b[1;33m\u001b[0m\u001b[1;33m\u001b[0m\u001b[0m\n\u001b[1;32m--> 545\u001b[1;33m               ctx=ctx)\n\u001b[0m\u001b[0;32m    546\u001b[0m         \u001b[1;32melse\u001b[0m\u001b[1;33m:\u001b[0m\u001b[1;33m\u001b[0m\u001b[1;33m\u001b[0m\u001b[0m\n\u001b[0;32m    547\u001b[0m           outputs = execute.execute_with_cancellation(\n",
      "\u001b[1;32mc:\\users\\marco\\appdata\\local\\programs\\python\\python37\\lib\\site-packages\\tensorflow_core\\python\\eager\\execute.py\u001b[0m in \u001b[0;36mquick_execute\u001b[1;34m(op_name, num_outputs, inputs, attrs, ctx, name)\u001b[0m\n\u001b[0;32m     65\u001b[0m     \u001b[1;32melse\u001b[0m\u001b[1;33m:\u001b[0m\u001b[1;33m\u001b[0m\u001b[1;33m\u001b[0m\u001b[0m\n\u001b[0;32m     66\u001b[0m       \u001b[0mmessage\u001b[0m \u001b[1;33m=\u001b[0m \u001b[0me\u001b[0m\u001b[1;33m.\u001b[0m\u001b[0mmessage\u001b[0m\u001b[1;33m\u001b[0m\u001b[1;33m\u001b[0m\u001b[0m\n\u001b[1;32m---> 67\u001b[1;33m     \u001b[0msix\u001b[0m\u001b[1;33m.\u001b[0m\u001b[0mraise_from\u001b[0m\u001b[1;33m(\u001b[0m\u001b[0mcore\u001b[0m\u001b[1;33m.\u001b[0m\u001b[0m_status_to_exception\u001b[0m\u001b[1;33m(\u001b[0m\u001b[0me\u001b[0m\u001b[1;33m.\u001b[0m\u001b[0mcode\u001b[0m\u001b[1;33m,\u001b[0m \u001b[0mmessage\u001b[0m\u001b[1;33m)\u001b[0m\u001b[1;33m,\u001b[0m \u001b[1;32mNone\u001b[0m\u001b[1;33m)\u001b[0m\u001b[1;33m\u001b[0m\u001b[1;33m\u001b[0m\u001b[0m\n\u001b[0m\u001b[0;32m     68\u001b[0m   \u001b[1;32mexcept\u001b[0m \u001b[0mTypeError\u001b[0m \u001b[1;32mas\u001b[0m \u001b[0me\u001b[0m\u001b[1;33m:\u001b[0m\u001b[1;33m\u001b[0m\u001b[1;33m\u001b[0m\u001b[0m\n\u001b[0;32m     69\u001b[0m     keras_symbolic_tensors = [\n",
      "\u001b[1;32mc:\\users\\marco\\appdata\\local\\programs\\python\\python37\\lib\\site-packages\\six.py\u001b[0m in \u001b[0;36mraise_from\u001b[1;34m(value, from_value)\u001b[0m\n",
      "\u001b[1;31mResourceExhaustedError\u001b[0m:  OOM when allocating tensor with shape[788544,128] and type float on /job:localhost/replica:0/task:0/device:CPU:0 by allocator cpu\n\t [[node Adam/Adam/update_4/ResourceApplyAdam (defined at <ipython-input-11-debd31c6b462>:10) ]]\nHint: If you want to see a list of allocated tensors when OOM happens, add report_tensor_allocations_upon_oom to RunOptions for current allocation info.\n [Op:__inference_distributed_function_32429]\n\nErrors may have originated from an input operation.\nInput Source operations connected to node Adam/Adam/update_4/ResourceApplyAdam:\n sequential_2/fine_2/dense_4/MatMul/ReadVariableOp (defined at <ipython-input-6-bbac023ba889>:32)\n\nFunction call stack:\ndistributed_function\n"
     ]
    }
   ],
   "source": [
    "#training fine classifiers on corresponding data\n",
    "for cat in range(13):\n",
    "    index = 0\n",
    "    step = 1\n",
    "    stop = 3\n",
    "    while index < stop:\n",
    "        fine_models['models'][cat].fit(train_generator_fine[cat],\n",
    "          epochs = index+step,\n",
    "          verbose=1, initial_epoch=index,\n",
    "          validation_data = val_generator_fine[cat]\n",
    "          )\n",
    "        index += step\n",
    "    \n",
    "    #yh_f = fine_models['models'][cat].predict(test_generator_fine[cat])\n",
    "    print('Fine Classifier '+str(cat)+' Error: ')\n",
    "    #str(get_error(y_val[ix_v],yh_f)))"
   ]
  },
  {
   "cell_type": "code",
   "execution_count": null,
   "metadata": {},
   "outputs": [],
   "source": [
    "coarse_predictions=model_c.predict(test_generator_coarse)\n",
    "\n",
    "fine_predictions = [] #dim:  n_classes_coarse X n_images_predict X n_classes_fine\n",
    "for c in range(2):\n",
    "    fine_predictions.append(fine_models['models'][c].predict(test_generator_fine[c]))"
   ]
  },
  {
   "cell_type": "code",
   "execution_count": null,
   "metadata": {},
   "outputs": [],
   "source": [
    "prediction_size = len(coarse_predictions)\n",
    "predictions = []\n",
    "for img in range(prediction_size):\n",
    "    proba = [0]*10\n",
    "    for finec in range(10):\n",
    "        for coarsec in range(2):\n",
    "            proba[finec] += coarse_predictions[img][coarsec]*fine_predictions[coarsec][img][finec]\n",
    "    predicted = np.argmax(proba)\n",
    "    predictions.append(predicted)"
   ]
  },
  {
   "cell_type": "code",
   "execution_count": 9,
   "metadata": {},
   "outputs": [],
   "source": [
    "def eval_hdcnn(X, y):\n",
    "    yh = np.zeros(np.shape(y))\n",
    "    \n",
    "    yh_s = model.predict(X, batch_size=32)\n",
    "    \n",
    "    print('Single Classifier Error: '+str(get_error(y,yh_s)))\n",
    "    \n",
    "    yh_c = model_c.predict(X, batch_size=32)\n",
    "    y_c = np.dot(y,fine2coarse)\n",
    "    \n",
    "    print('Coarse Classifier Error: '+str(get_error(y_c,yh_c)))\n",
    "\n",
    "    for i in range(2):\n",
    "        if i%5 == 0:\n",
    "            print(\"Evaluating Fine Classifier: \", str(i))\n",
    "        #fine_models['yhf'][i] = fine_models['models'][i].predict(X, batch_size=batch)\n",
    "        yh += np.multiply(yh_c[:,i].reshape((len(y)),1), fine_models['yhf'][i])\n",
    "    \n",
    "    print('Overall Error: '+str(get_error(y,yh)))\n",
    "    return yh"
   ]
  },
  {
   "cell_type": "code",
   "execution_count": null,
   "metadata": {},
   "outputs": [],
   "source": []
  }
 ],
 "metadata": {
  "kernelspec": {
   "display_name": "Python 3",
   "language": "python",
   "name": "python3"
  },
  "language_info": {
   "codemirror_mode": {
    "name": "ipython",
    "version": 3
   },
   "file_extension": ".py",
   "mimetype": "text/x-python",
   "name": "python",
   "nbconvert_exporter": "python",
   "pygments_lexer": "ipython3",
   "version": "3.7.7"
  }
 },
 "nbformat": 4,
 "nbformat_minor": 4
}
