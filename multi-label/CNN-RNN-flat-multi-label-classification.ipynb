{
 "cells": [
  {
   "cell_type": "markdown",
   "metadata": {},
   "source": [
    "## CNN-RNN multi-label classification\n",
    "\n",
    "This notebook contains the preprocessing that was necessary to use the CNN-RNN classification repository \n",
    "(https://github.com/AmrMaghraby/CNN-RNN-A-Unified-Framework-for-Multi-label-Image-Classification)\n",
    "\n",
    "Furthermore, it contains the command line to use from terminal to run the downloaded code, in conjuction with the data_loader.py that was written to work specifically with my data."
   ]
  },
  {
   "cell_type": "code",
   "execution_count": 1,
   "metadata": {},
   "outputs": [],
   "source": [
    "import numpy as np\n",
    "import pandas as pd\n",
    "import os\n",
    "import pickle\n",
    "import json\n",
    "from pathlib import Path"
   ]
  },
  {
   "cell_type": "markdown",
   "metadata": {},
   "source": [
    "#### MyData.json"
   ]
  },
  {
   "cell_type": "code",
   "execution_count": 2,
   "metadata": {},
   "outputs": [
    {
     "name": "stdout",
     "output_type": "stream",
     "text": [
      "24999\n"
     ]
    }
   ],
   "source": [
    "with open('../data/filenames.pkl', 'rb') as infile:\n",
    "    filenames = pickle.load(infile)\n",
    "    \n",
    "with open('../data/labels.pkl', 'rb') as infile2:\n",
    "    labels = pickle.load(infile2)\n",
    "    \n",
    "df = pd.concat([pd.Series(filenames, name='filenames'), pd.Series(labels, name='labels')], axis=1)\n",
    "\n",
    "labels_dict = {0:'people',1:'objects',2:'places',3:'architecture',4:'abstraction',5:'society',\\\n",
    "          6:'nature',7:'emotions, concepts and ideas',8:'interiors',9:'work and occupations', \\\n",
    "          10:'symbols & personifications',11:'religion and belief',12:'leisure and pastimes',\\\n",
    "          13:'history',14:'literature and fiction',15:'group/movement'}\n",
    "\n",
    "labels_names = [[]]*len(df.labels)\n",
    "for k in range(len(df.labels)):\n",
    "    labels_names[k] = []\n",
    "    for i in range(len(df.labels[k])):\n",
    "        if df.labels[k][i] == 1:\n",
    "            labels_names[k].append(labels_dict[i])\n",
    "            \n",
    "print(len(labels_names))"
   ]
  },
  {
   "cell_type": "markdown",
   "metadata": {},
   "source": [
    "#### Idx2path.json"
   ]
  },
  {
   "cell_type": "code",
   "execution_count": null,
   "metadata": {},
   "outputs": [],
   "source": []
  },
  {
   "cell_type": "markdown",
   "metadata": {},
   "source": [
    "#### zh_vocab.pkl"
   ]
  },
  {
   "cell_type": "code",
   "execution_count": null,
   "metadata": {},
   "outputs": [],
   "source": []
  },
  {
   "cell_type": "markdown",
   "metadata": {},
   "source": [
    "### Running the code from terminal:"
   ]
  },
  {
   "cell_type": "code",
   "execution_count": null,
   "metadata": {},
   "outputs": [],
   "source": [
    "! python CNN_RNN/train.py --vocab_path ../data/zh_vocab.pkl --caption_path ../data/MyData.json --image_dir ../../data_tate --idx2path_path ../data/idx2path.json"
   ]
  }
 ],
 "metadata": {
  "kernelspec": {
   "display_name": "Python 3",
   "language": "python",
   "name": "python3"
  },
  "language_info": {
   "codemirror_mode": {
    "name": "ipython",
    "version": 3
   },
   "file_extension": ".py",
   "mimetype": "text/x-python",
   "name": "python",
   "nbconvert_exporter": "python",
   "pygments_lexer": "ipython3",
   "version": "3.7.6"
  }
 },
 "nbformat": 4,
 "nbformat_minor": 4
}
